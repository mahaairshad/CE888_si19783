{
  "nbformat": 4,
  "nbformat_minor": 0,
  "metadata": {
    "colab": {
      "name": "Lab7_Exercise2_DogvsCat_CNN.ipynb",
      "provenance": [],
      "collapsed_sections": [],
      "include_colab_link": true
    },
    "kernelspec": {
      "name": "python3",
      "display_name": "Python 3"
    },
    "accelerator": "GPU"
  },
  "cells": [
    {
      "cell_type": "markdown",
      "metadata": {
        "id": "view-in-github",
        "colab_type": "text"
      },
      "source": [
        "<a href=\"https://colab.research.google.com/github/mahaairshad/CE888_si19783/blob/master/Lab7/Lab7_Exercise2_DogvsCat_CNN.ipynb\" target=\"_parent\"><img src=\"https://colab.research.google.com/assets/colab-badge.svg\" alt=\"Open In Colab\"/></a>"
      ]
    },
    {
      "cell_type": "markdown",
      "metadata": {
        "id": "qTh9DiKVslsJ",
        "colab_type": "text"
      },
      "source": [
        "## Dogs vs. Cats \n",
        "\n",
        "In this competition, you'll write an algorithm to classify whether images contain either a dog or a cat.  This is easy for humans, dogs, and cats. Your computer will find it a bit more difficult.\n",
        "\n",
        "![alt text](https://miro.medium.com/max/3000/1*bhFifratH9DjKqMBTeQG5A.gif)\n",
        "\n",
        "Ref: https://medium.com/@thegrigorian/rolling-in-the-deep-cnn-c8d3f7108c8c"
      ]
    },
    {
      "cell_type": "code",
      "metadata": {
        "id": "YmXSOc0tZIGA",
        "colab_type": "code",
        "outputId": "d4dda24b-679b-4b66-e065-015ce1b33795",
        "colab": {
          "base_uri": "https://localhost:8080/",
          "height": 187
        }
      },
      "source": [
        "import os\n",
        "os.environ['KAGGLE_USERNAME'] = \"shahzadimahaairshad\" # username from the json file\n",
        "os.environ['KAGGLE_KEY'] = \"6f3ba73e91c8f084ad58268571d65f3c\" # key from the json file\n",
        "!kaggle competitions download -c dogs-vs-cats # api copied from kaggle"
      ],
      "execution_count": 0,
      "outputs": [
        {
          "output_type": "stream",
          "text": [
            "Warning: Looks like you're using an outdated API Version, please consider updating (server 1.5.6 / client 1.5.4)\n",
            "Downloading sampleSubmission.csv to /content\n",
            "  0% 0.00/86.8k [00:00<?, ?B/s]\n",
            "100% 86.8k/86.8k [00:00<00:00, 32.4MB/s]\n",
            "Downloading test1.zip to /content\n",
            " 99% 269M/271M [00:02<00:00, 152MB/s]\n",
            "100% 271M/271M [00:02<00:00, 113MB/s]\n",
            "Downloading train.zip to /content\n",
            " 99% 538M/543M [00:05<00:00, 116MB/s]\n",
            "100% 543M/543M [00:05<00:00, 103MB/s]\n"
          ],
          "name": "stdout"
        }
      ]
    },
    {
      "cell_type": "code",
      "metadata": {
        "id": "PiwIL8d1n7eS",
        "colab_type": "code",
        "outputId": "75208153-e9d8-4386-9376-0390a6ae8679",
        "colab": {
          "base_uri": "https://localhost:8080/",
          "height": 34
        }
      },
      "source": [
        "# Upload data\n",
        "from zipfile import ZipFile\n",
        "\n",
        "file_name = \"/content/train.zip\"\n",
        "\n",
        "with ZipFile(file_name, 'r') as zip:\n",
        "  zip.extractall()\n",
        "  print('done')"
      ],
      "execution_count": 0,
      "outputs": [
        {
          "output_type": "stream",
          "text": [
            "done\n"
          ],
          "name": "stdout"
        }
      ]
    },
    {
      "cell_type": "code",
      "metadata": {
        "id": "sa2Bj5i7pPKV",
        "colab_type": "code",
        "outputId": "cc0c947c-ad6c-4804-f400-9cb6df4cd59a",
        "colab": {
          "base_uri": "https://localhost:8080/",
          "height": 34
        }
      },
      "source": [
        "data_dir_list = os.listdir('/content/train')\n",
        "#print(data_dir_list)\n",
        "\n",
        "path, dirs, files = next(os.walk(\"/content/train\"))\n",
        "file_count = len(files)\n",
        "print(file_count)"
      ],
      "execution_count": 0,
      "outputs": [
        {
          "output_type": "stream",
          "text": [
            "25000\n"
          ],
          "name": "stdout"
        }
      ]
    },
    {
      "cell_type": "code",
      "metadata": {
        "id": "0ERlHkfHqpK8",
        "colab_type": "code",
        "colab": {}
      },
      "source": [
        "original_dataset_dir = '/content/train'\n",
        "base_dir = '/content/cats_and_dogs_small'\n",
        "os.mkdir(base_dir)"
      ],
      "execution_count": 0,
      "outputs": []
    },
    {
      "cell_type": "code",
      "metadata": {
        "id": "AANB1UJ6rQhM",
        "colab_type": "code",
        "colab": {}
      },
      "source": [
        "train_dir = os.path.join(base_dir, 'train')\n",
        "os.mkdir(train_dir)\n",
        "\n",
        "validation_dir = os.path.join(base_dir, 'validation')\n",
        "os.mkdir(validation_dir)\n",
        "\n",
        "test_dir = os.path.join(base_dir, 'test')\n",
        "os.mkdir(test_dir)\n",
        "\n",
        "train_cats_dir = os.path.join(train_dir, 'cats')\n",
        "os.mkdir(train_cats_dir)\n",
        "\n",
        "train_dogs_dir = os.path.join(train_dir, 'dogs')\n",
        "os.mkdir(train_dogs_dir)\n",
        "\n",
        "validation_cats_dir = os.path.join(validation_dir, 'cats')\n",
        "os.mkdir(validation_cats_dir)\n",
        "\n",
        "validation_dogs_dir = os.path.join(validation_dir, 'dogs')\n",
        "os.mkdir(validation_dogs_dir)\n",
        "\n",
        "test_cats_dir = os.path.join(test_dir, 'cats')\n",
        "os.mkdir(test_cats_dir)\n",
        "\n",
        "test_dogs_dir = os.path.join(test_dir, 'dogs')\n",
        "os.mkdir(test_dogs_dir)"
      ],
      "execution_count": 0,
      "outputs": []
    },
    {
      "cell_type": "code",
      "metadata": {
        "id": "ULRgL9s9rV8T",
        "colab_type": "code",
        "colab": {}
      },
      "source": [
        "import shutil\n",
        "fnames = ['cat.{}.jpg'.format(i) for i in range(1000)]\n",
        "for fname in fnames:\n",
        "    src = os.path.join(original_dataset_dir, fname)\n",
        "    dst = os.path.join(train_cats_dir, fname)\n",
        "    #print(src,dst)\n",
        "    shutil.copyfile(src, dst)\n",
        "    \n",
        "fnames = ['cat.{}.jpg'.format(i) for i in range(1000, 1500)]\n",
        "for fname in fnames:\n",
        "    src = os.path.join(original_dataset_dir, fname)\n",
        "    dst = os.path.join(validation_cats_dir, fname)\n",
        "    shutil.copyfile(src, dst)\n",
        "\n",
        "fnames = ['cat.{}.jpg'.format(i) for i in range(1500, 2000)]\n",
        "for fname in fnames:\n",
        "    src = os.path.join(original_dataset_dir, fname)\n",
        "    dst = os.path.join(test_cats_dir, fname)\n",
        "    shutil.copyfile(src, dst)\n",
        "    \n",
        "fnames = ['dog.{}.jpg'.format(i) for i in range(1000)]\n",
        "for fname in fnames:\n",
        "    src = os.path.join(original_dataset_dir, fname)\n",
        "    dst = os.path.join(train_dogs_dir, fname)\n",
        "    shutil.copyfile(src, dst)\n",
        "\n",
        "fnames = ['dog.{}.jpg'.format(i) for i in range(1000, 1500)]\n",
        "for fname in fnames:\n",
        "    src = os.path.join(original_dataset_dir, fname)\n",
        "    dst = os.path.join(validation_dogs_dir, fname)\n",
        "    shutil.copyfile(src, dst)\n",
        "\n",
        "fnames = ['dog.{}.jpg'.format(i) for i in range(1500, 2000)]\n",
        "for fname in fnames:\n",
        "    src = os.path.join(original_dataset_dir, fname)\n",
        "    dst = os.path.join(test_dogs_dir, fname)\n",
        "    shutil.copyfile(src, dst)"
      ],
      "execution_count": 0,
      "outputs": []
    },
    {
      "cell_type": "code",
      "metadata": {
        "id": "ul3XAbIyr7vC",
        "colab_type": "code",
        "outputId": "e0c69470-23c8-46f4-890b-878a5825cd4f",
        "colab": {
          "base_uri": "https://localhost:8080/",
          "height": 119
        }
      },
      "source": [
        "print('total training cat images:', len(os.listdir(train_cats_dir)))\n",
        "print('total training dog images:', len(os.listdir(train_dogs_dir)))\n",
        "print('total validation cat images:', len(os.listdir(validation_cats_dir)))\n",
        "\n",
        "print('total validation dog images:', len(os.listdir(validation_dogs_dir)))\n",
        "print('total test cat images:', len(os.listdir(test_cats_dir)))\n",
        "print('total test dog images:', len(os.listdir(test_dogs_dir)))"
      ],
      "execution_count": 0,
      "outputs": [
        {
          "output_type": "stream",
          "text": [
            "total training cat images: 1000\n",
            "total training dog images: 1000\n",
            "total validation cat images: 500\n",
            "total validation dog images: 500\n",
            "total test cat images: 500\n",
            "total test dog images: 500\n"
          ],
          "name": "stdout"
        }
      ]
    },
    {
      "cell_type": "code",
      "metadata": {
        "id": "o9yTA21_r-ma",
        "colab_type": "code",
        "outputId": "ba809db2-a98b-4664-de96-4ff731b530d9",
        "colab": {
          "base_uri": "https://localhost:8080/",
          "height": 746
        }
      },
      "source": [
        "from keras import layers\n",
        "from keras import models\n",
        "\n",
        "model = models.Sequential()\n",
        "model.add(layers.Conv2D(32, (3, 3), activation='relu', input_shape=(150, 150, 3)))\n",
        "model.add(layers.MaxPooling2D((2, 2)))\n",
        "model.add(layers.Conv2D(64, (3, 3), activation='relu'))\n",
        "model.add(layers.MaxPooling2D((2, 2)))\n",
        "model.add(layers.Conv2D(128, (3, 3), activation='relu'))\n",
        "model.add(layers.MaxPooling2D((2, 2)))\n",
        "model.add(layers.Conv2D(128, (3, 3), activation='relu'))\n",
        "model.add(layers.MaxPooling2D((2, 2)))\n",
        "model.add(layers.Flatten())\n",
        "model.add(layers.Dense(512, activation='relu'))\n",
        "model.add(layers.Dense(1, activation='sigmoid'))\n",
        "model.summary()"
      ],
      "execution_count": 0,
      "outputs": [
        {
          "output_type": "stream",
          "text": [
            "Using TensorFlow backend.\n"
          ],
          "name": "stderr"
        },
        {
          "output_type": "display_data",
          "data": {
            "text/html": [
              "<p style=\"color: red;\">\n",
              "The default version of TensorFlow in Colab will soon switch to TensorFlow 2.x.<br>\n",
              "We recommend you <a href=\"https://www.tensorflow.org/guide/migrate\" target=\"_blank\">upgrade</a> now \n",
              "or ensure your notebook will continue to use TensorFlow 1.x via the <code>%tensorflow_version 1.x</code> magic:\n",
              "<a href=\"https://colab.research.google.com/notebooks/tensorflow_version.ipynb\" target=\"_blank\">more info</a>.</p>\n"
            ],
            "text/plain": [
              "<IPython.core.display.HTML object>"
            ]
          },
          "metadata": {
            "tags": []
          }
        },
        {
          "output_type": "stream",
          "text": [
            "WARNING:tensorflow:From /usr/local/lib/python3.6/dist-packages/keras/backend/tensorflow_backend.py:66: The name tf.get_default_graph is deprecated. Please use tf.compat.v1.get_default_graph instead.\n",
            "\n",
            "WARNING:tensorflow:From /usr/local/lib/python3.6/dist-packages/keras/backend/tensorflow_backend.py:541: The name tf.placeholder is deprecated. Please use tf.compat.v1.placeholder instead.\n",
            "\n",
            "WARNING:tensorflow:From /usr/local/lib/python3.6/dist-packages/keras/backend/tensorflow_backend.py:4432: The name tf.random_uniform is deprecated. Please use tf.random.uniform instead.\n",
            "\n",
            "WARNING:tensorflow:From /usr/local/lib/python3.6/dist-packages/keras/backend/tensorflow_backend.py:4267: The name tf.nn.max_pool is deprecated. Please use tf.nn.max_pool2d instead.\n",
            "\n",
            "Model: \"sequential_1\"\n",
            "_________________________________________________________________\n",
            "Layer (type)                 Output Shape              Param #   \n",
            "=================================================================\n",
            "conv2d_1 (Conv2D)            (None, 148, 148, 32)      896       \n",
            "_________________________________________________________________\n",
            "max_pooling2d_1 (MaxPooling2 (None, 74, 74, 32)        0         \n",
            "_________________________________________________________________\n",
            "conv2d_2 (Conv2D)            (None, 72, 72, 64)        18496     \n",
            "_________________________________________________________________\n",
            "max_pooling2d_2 (MaxPooling2 (None, 36, 36, 64)        0         \n",
            "_________________________________________________________________\n",
            "conv2d_3 (Conv2D)            (None, 34, 34, 128)       73856     \n",
            "_________________________________________________________________\n",
            "max_pooling2d_3 (MaxPooling2 (None, 17, 17, 128)       0         \n",
            "_________________________________________________________________\n",
            "conv2d_4 (Conv2D)            (None, 15, 15, 128)       147584    \n",
            "_________________________________________________________________\n",
            "max_pooling2d_4 (MaxPooling2 (None, 7, 7, 128)         0         \n",
            "_________________________________________________________________\n",
            "flatten_1 (Flatten)          (None, 6272)              0         \n",
            "_________________________________________________________________\n",
            "dense_1 (Dense)              (None, 512)               3211776   \n",
            "_________________________________________________________________\n",
            "dense_2 (Dense)              (None, 1)                 513       \n",
            "=================================================================\n",
            "Total params: 3,453,121\n",
            "Trainable params: 3,453,121\n",
            "Non-trainable params: 0\n",
            "_________________________________________________________________\n"
          ],
          "name": "stdout"
        }
      ]
    },
    {
      "cell_type": "code",
      "metadata": {
        "id": "2mG8wekxsBVS",
        "colab_type": "code",
        "outputId": "08671019-0803-4fe3-d5a8-af577b313653",
        "colab": {
          "base_uri": "https://localhost:8080/",
          "height": 156
        }
      },
      "source": [
        "from keras import optimizers\n",
        "model.compile(loss='binary_crossentropy', \n",
        "              optimizer=optimizers.RMSprop(lr=1e-4),\n",
        "              metrics=['acc'])"
      ],
      "execution_count": 0,
      "outputs": [
        {
          "output_type": "stream",
          "text": [
            "WARNING:tensorflow:From /usr/local/lib/python3.6/dist-packages/keras/optimizers.py:793: The name tf.train.Optimizer is deprecated. Please use tf.compat.v1.train.Optimizer instead.\n",
            "\n",
            "WARNING:tensorflow:From /usr/local/lib/python3.6/dist-packages/keras/backend/tensorflow_backend.py:3657: The name tf.log is deprecated. Please use tf.math.log instead.\n",
            "\n",
            "WARNING:tensorflow:From /usr/local/lib/python3.6/dist-packages/tensorflow_core/python/ops/nn_impl.py:183: where (from tensorflow.python.ops.array_ops) is deprecated and will be removed in a future version.\n",
            "Instructions for updating:\n",
            "Use tf.where in 2.0, which has the same broadcast rule as np.where\n"
          ],
          "name": "stdout"
        }
      ]
    },
    {
      "cell_type": "markdown",
      "metadata": {
        "id": "7zS4Klm8qWp6",
        "colab_type": "text"
      },
      "source": [
        "## Using ImageDataGenerator to read images from directories\n",
        "As you know by now, data should be formatted into appropriately preprocessed floatingpoint tensors before being fed into the network. Currently, the data sits on a drive as JPEG files, so the steps for getting it into the network are roughly as follows:\n",
        "\n",
        "* Read the picture files.\n",
        "* Decode the JPEG content to RGB grids of pixels.\n",
        "* Convert these into floating-point tensors.\n",
        "* Rescale the pixel values (between 0 and 255) to the [0, 1] interval (as you know, neural networks prefer to deal with small input values).\n",
        "\n",
        "It may seem a bit daunting, but fortunately Keras has utilities to take care of these steps automatically. Keras has a module with image-processing helper tools, located at keras.preprocessing.image. In particular, it contains the class ImageDataGenerator,which lets you quickly set up Python generators that can automatically turn image files on disk into batches of preprocessed tensors."
      ]
    },
    {
      "cell_type": "code",
      "metadata": {
        "id": "XJ7XU7t9sEh6",
        "colab_type": "code",
        "outputId": "e2f2ae4a-c0d5-4ab8-fd7e-05ce1acf6dd9",
        "colab": {
          "base_uri": "https://localhost:8080/",
          "height": 51
        }
      },
      "source": [
        "from keras.preprocessing.image import ImageDataGenerator\n",
        "\n",
        "train_datagen = ImageDataGenerator(rescale=1./255)\n",
        "test_datagen = ImageDataGenerator(rescale=1./255)\n",
        "\n",
        "train_generator = train_datagen.flow_from_directory(train_dir,\n",
        "                                                    target_size=(150, 150), \n",
        "                                                    batch_size=20,\n",
        "                                                    class_mode='binary')\n",
        "\n",
        "validation_generator = test_datagen.flow_from_directory(validation_dir,\n",
        "                                                        target_size=(150, 150),\n",
        "                                                        batch_size=20,\n",
        "                                                        class_mode='binary')"
      ],
      "execution_count": 0,
      "outputs": [
        {
          "output_type": "stream",
          "text": [
            "Found 2000 images belonging to 2 classes.\n",
            "Found 1000 images belonging to 2 classes.\n"
          ],
          "name": "stdout"
        }
      ]
    },
    {
      "cell_type": "markdown",
      "metadata": {
        "id": "SEgLywySqm4u",
        "colab_type": "text"
      },
      "source": [
        "Let’s fit the model to the data using the generator. You do so using the fit_generator method, the equivalent of fit for data generators like this one. It expects as its first argument a Python generator that will yield batches of inputs and targets indefinitely,like this one does. Because the data is being generated endlessly, the Keras model needs to know how many samples to draw from the generator before declaring anepoch over. This is the role of the `steps_per_epoch` argument: after having drawn `steps_per_epoch` batches from the generator—that is, after having run for `steps_per_epoch` gradient descent steps—the fitting process will go to the next epoch. In this case, batches are 20 samples, so it will take 100 batches until you see your target of 2,000 samples.\n",
        "\n",
        "When using fit_generator, you can pass a validation_data argument, much as with the fit method. It’s important to note that this argument is allowed to be a data generator, but it could also be a tuple of Numpy arrays. If you pass a generator as validation_data, then this generator is expected to yield batches of validation data endlessly; thus you should also specify the validation_steps argument, which tells the process how many batches to draw from the validation generator for evaluation."
      ]
    },
    {
      "cell_type": "code",
      "metadata": {
        "id": "yMyfPphJsJG6",
        "colab_type": "code",
        "outputId": "7c2684cc-4fff-4f68-e46b-81bf38853263",
        "colab": {
          "base_uri": "https://localhost:8080/",
          "height": 1000
        }
      },
      "source": [
        "history = model.fit_generator(train_generator,\n",
        "                              steps_per_epoch=100,\n",
        "                              epochs=30,\n",
        "                              validation_data=validation_generator,\n",
        "                              validation_steps=10)"
      ],
      "execution_count": 0,
      "outputs": [
        {
          "output_type": "stream",
          "text": [
            "WARNING:tensorflow:From /usr/local/lib/python3.6/dist-packages/keras/backend/tensorflow_backend.py:1033: The name tf.assign_add is deprecated. Please use tf.compat.v1.assign_add instead.\n",
            "\n",
            "WARNING:tensorflow:From /usr/local/lib/python3.6/dist-packages/keras/backend/tensorflow_backend.py:1020: The name tf.assign is deprecated. Please use tf.compat.v1.assign instead.\n",
            "\n",
            "WARNING:tensorflow:From /usr/local/lib/python3.6/dist-packages/keras/backend/tensorflow_backend.py:3005: The name tf.Session is deprecated. Please use tf.compat.v1.Session instead.\n",
            "\n",
            "Epoch 1/30\n",
            "WARNING:tensorflow:From /usr/local/lib/python3.6/dist-packages/keras/backend/tensorflow_backend.py:190: The name tf.get_default_session is deprecated. Please use tf.compat.v1.get_default_session instead.\n",
            "\n",
            "WARNING:tensorflow:From /usr/local/lib/python3.6/dist-packages/keras/backend/tensorflow_backend.py:197: The name tf.ConfigProto is deprecated. Please use tf.compat.v1.ConfigProto instead.\n",
            "\n",
            "WARNING:tensorflow:From /usr/local/lib/python3.6/dist-packages/keras/backend/tensorflow_backend.py:207: The name tf.global_variables is deprecated. Please use tf.compat.v1.global_variables instead.\n",
            "\n",
            "WARNING:tensorflow:From /usr/local/lib/python3.6/dist-packages/keras/backend/tensorflow_backend.py:216: The name tf.is_variable_initialized is deprecated. Please use tf.compat.v1.is_variable_initialized instead.\n",
            "\n",
            "WARNING:tensorflow:From /usr/local/lib/python3.6/dist-packages/keras/backend/tensorflow_backend.py:223: The name tf.variables_initializer is deprecated. Please use tf.compat.v1.variables_initializer instead.\n",
            "\n",
            "100/100 [==============================] - 20s 205ms/step - loss: 0.6885 - acc: 0.5520 - val_loss: 0.6620 - val_acc: 0.6400\n",
            "Epoch 2/30\n",
            "100/100 [==============================] - 7s 66ms/step - loss: 0.6537 - acc: 0.6195 - val_loss: 0.6656 - val_acc: 0.5450\n",
            "Epoch 3/30\n",
            "100/100 [==============================] - 7s 67ms/step - loss: 0.6125 - acc: 0.6670 - val_loss: 0.5805 - val_acc: 0.7050\n",
            "Epoch 4/30\n",
            "100/100 [==============================] - 7s 68ms/step - loss: 0.5737 - acc: 0.7030 - val_loss: 0.6330 - val_acc: 0.6400\n",
            "Epoch 5/30\n",
            "100/100 [==============================] - 7s 66ms/step - loss: 0.5389 - acc: 0.7300 - val_loss: 0.7209 - val_acc: 0.6000\n",
            "Epoch 6/30\n",
            "100/100 [==============================] - 7s 70ms/step - loss: 0.5153 - acc: 0.7525 - val_loss: 0.7126 - val_acc: 0.5800\n",
            "Epoch 7/30\n",
            "100/100 [==============================] - 7s 69ms/step - loss: 0.4898 - acc: 0.7545 - val_loss: 0.5880 - val_acc: 0.6950\n",
            "Epoch 8/30\n",
            "100/100 [==============================] - 7s 66ms/step - loss: 0.4689 - acc: 0.7760 - val_loss: 0.5868 - val_acc: 0.7300\n",
            "Epoch 9/30\n",
            "100/100 [==============================] - 7s 67ms/step - loss: 0.4470 - acc: 0.7845 - val_loss: 0.5675 - val_acc: 0.6900\n",
            "Epoch 10/30\n",
            "100/100 [==============================] - 7s 65ms/step - loss: 0.4224 - acc: 0.8015 - val_loss: 0.6318 - val_acc: 0.6600\n",
            "Epoch 11/30\n",
            "100/100 [==============================] - 7s 71ms/step - loss: 0.3919 - acc: 0.8210 - val_loss: 0.5900 - val_acc: 0.7050\n",
            "Epoch 12/30\n",
            "100/100 [==============================] - 7s 67ms/step - loss: 0.3643 - acc: 0.8365 - val_loss: 0.4229 - val_acc: 0.8150\n",
            "Epoch 13/30\n",
            "100/100 [==============================] - 7s 66ms/step - loss: 0.3502 - acc: 0.8500 - val_loss: 0.6549 - val_acc: 0.6500\n",
            "Epoch 14/30\n",
            "100/100 [==============================] - 7s 66ms/step - loss: 0.3263 - acc: 0.8655 - val_loss: 0.6130 - val_acc: 0.6750\n",
            "Epoch 15/30\n",
            "100/100 [==============================] - 7s 68ms/step - loss: 0.3058 - acc: 0.8645 - val_loss: 0.6137 - val_acc: 0.7400\n",
            "Epoch 16/30\n",
            "100/100 [==============================] - 7s 68ms/step - loss: 0.2814 - acc: 0.8770 - val_loss: 0.8174 - val_acc: 0.6750\n",
            "Epoch 17/30\n",
            "100/100 [==============================] - 7s 66ms/step - loss: 0.2563 - acc: 0.8980 - val_loss: 0.6481 - val_acc: 0.7250\n",
            "Epoch 18/30\n",
            "100/100 [==============================] - 7s 66ms/step - loss: 0.2387 - acc: 0.9045 - val_loss: 0.6035 - val_acc: 0.7400\n",
            "Epoch 19/30\n",
            "100/100 [==============================] - 7s 66ms/step - loss: 0.2257 - acc: 0.9130 - val_loss: 0.8049 - val_acc: 0.6950\n",
            "Epoch 20/30\n",
            "100/100 [==============================] - 7s 71ms/step - loss: 0.2055 - acc: 0.9140 - val_loss: 0.5899 - val_acc: 0.7250\n",
            "Epoch 21/30\n",
            "100/100 [==============================] - 7s 69ms/step - loss: 0.1805 - acc: 0.9335 - val_loss: 0.5296 - val_acc: 0.7750\n",
            "Epoch 22/30\n",
            "100/100 [==============================] - 7s 67ms/step - loss: 0.1651 - acc: 0.9380 - val_loss: 0.8031 - val_acc: 0.7000\n",
            "Epoch 23/30\n",
            "100/100 [==============================] - 7s 69ms/step - loss: 0.1491 - acc: 0.9440 - val_loss: 0.7189 - val_acc: 0.7700\n",
            "Epoch 24/30\n",
            "100/100 [==============================] - 7s 72ms/step - loss: 0.1326 - acc: 0.9585 - val_loss: 0.7630 - val_acc: 0.7400\n",
            "Epoch 25/30\n",
            "100/100 [==============================] - 7s 70ms/step - loss: 0.1132 - acc: 0.9620 - val_loss: 0.8267 - val_acc: 0.7300\n",
            "Epoch 26/30\n",
            "100/100 [==============================] - 7s 70ms/step - loss: 0.1038 - acc: 0.9680 - val_loss: 0.6313 - val_acc: 0.7750\n",
            "Epoch 27/30\n",
            "100/100 [==============================] - 7s 69ms/step - loss: 0.0955 - acc: 0.9680 - val_loss: 0.7950 - val_acc: 0.7350\n",
            "Epoch 28/30\n",
            "100/100 [==============================] - 7s 68ms/step - loss: 0.0770 - acc: 0.9780 - val_loss: 0.8115 - val_acc: 0.7550\n",
            "Epoch 29/30\n",
            "100/100 [==============================] - 7s 68ms/step - loss: 0.0654 - acc: 0.9805 - val_loss: 0.7654 - val_acc: 0.7500\n",
            "Epoch 30/30\n",
            "100/100 [==============================] - 7s 70ms/step - loss: 0.0621 - acc: 0.9820 - val_loss: 1.1595 - val_acc: 0.6850\n"
          ],
          "name": "stdout"
        }
      ]
    },
    {
      "cell_type": "code",
      "metadata": {
        "id": "MZaZ2HWZsNUi",
        "colab_type": "code",
        "outputId": "3aa5c9a9-c5a8-4c1f-f31f-b1356683d3c9",
        "colab": {
          "base_uri": "https://localhost:8080/",
          "height": 545
        }
      },
      "source": [
        "model.save('cats_and_dogs_small_1.h5')\n",
        "\n",
        "import matplotlib.pyplot as plt\n",
        "\n",
        "acc = history.history['acc']\n",
        "val_acc = history.history['val_acc']\n",
        "loss = history.history['loss']\n",
        "val_loss = history.history['val_loss']\n",
        "\n",
        "epochs = range(1, len(acc) + 1)\n",
        "\n",
        "plt.plot(epochs, acc, 'bo', label='Training acc')\n",
        "plt.plot(epochs, val_acc, 'b', label='Validation acc')\n",
        "plt.title('Training and validation accuracy')\n",
        "plt.legend()\n",
        "\n",
        "plt.figure()\n",
        "\n",
        "plt.plot(epochs, loss, 'bo', label='Training loss')\n",
        "plt.plot(epochs, val_loss, 'b', label='Validation loss')\n",
        "plt.title('Training and validation loss')\n",
        "plt.legend()\n",
        "\n",
        "plt.show()"
      ],
      "execution_count": 0,
      "outputs": [
        {
          "output_type": "display_data",
          "data": {
            "image/png": "[encoded data removed]",
            "text/plain": [
              "<Figure size 432x288 with 1 Axes>"
            ]
          },
          "metadata": {
            "tags": []
          }
        },
        {
          "output_type": "display_data",
          "data": {
            "image/png": "[encoded data removed]",
            "text/plain": [
              "<Figure size 432x288 with 1 Axes>"
            ]
          },
          "metadata": {
            "tags": []
          }
        }
      ]
    },
    {
      "cell_type": "markdown",
      "metadata": {
        "id": "XKZmXmBcq_8-",
        "colab_type": "text"
      },
      "source": [
        "## Convolutional Networks with Dropout\n",
        "\n",
        "![alt text](https://camo.githubusercontent.com/ee6fa1073247cd2c3d241300caf110d7a7541bc5/68747470733a2f2f63646e2d696d616765732d312e6d656469756d2e636f6d2f6d61782f3830302f312a4972644a355067684439596f4f7956415137334d4a772e676966)\n",
        "\n",
        "Ref: https://github.com/mneha4/Training-Neural-Nets---Guidelines"
      ]
    },
    {
      "cell_type": "code",
      "metadata": {
        "id": "wu3cqeYQrDeN",
        "colab_type": "code",
        "outputId": "61fdd79e-a1e5-4e62-ee55-7bd77aa8c2b6",
        "colab": {
          "base_uri": "https://localhost:8080/",
          "height": 122
        }
      },
      "source": [
        "model = models.Sequential()\n",
        "model.add(layers.Conv2D(32, (3, 3), activation='relu',\n",
        "input_shape=(150, 150, 3)))\n",
        "model.add(layers.MaxPooling2D((2, 2)))\n",
        "model.add(layers.Conv2D(64, (3, 3), activation='relu'))\n",
        "model.add(layers.MaxPooling2D((2, 2)))\n",
        "model.add(layers.Conv2D(128, (3, 3), activation='relu'))\n",
        "model.add(layers.MaxPooling2D((2, 2)))\n",
        "model.add(layers.Conv2D(128, (3, 3), activation='relu'))\n",
        "model.add(layers.MaxPooling2D((2, 2)))\n",
        "model.add(layers.Flatten())\n",
        "model.add(layers.Dropout(0.5))\n",
        "model.add(layers.Dense(512, activation='relu'))\n",
        "model.add(layers.Dense(1, activation='sigmoid'))\n",
        "\n",
        "model.compile(loss='binary_crossentropy',\n",
        "              optimizer=optimizers.RMSprop(lr=1e-4),\n",
        "              metrics=['acc'])"
      ],
      "execution_count": 0,
      "outputs": [
        {
          "output_type": "stream",
          "text": [
            "WARNING:tensorflow:From /usr/local/lib/python3.6/dist-packages/keras/backend/tensorflow_backend.py:148: The name tf.placeholder_with_default is deprecated. Please use tf.compat.v1.placeholder_with_default instead.\n",
            "\n",
            "WARNING:tensorflow:From /usr/local/lib/python3.6/dist-packages/keras/backend/tensorflow_backend.py:3733: calling dropout (from tensorflow.python.ops.nn_ops) with keep_prob is deprecated and will be removed in a future version.\n",
            "Instructions for updating:\n",
            "Please use `rate` instead of `keep_prob`. Rate should be set to `rate = 1 - keep_prob`.\n"
          ],
          "name": "stdout"
        }
      ]
    },
    {
      "cell_type": "code",
      "metadata": {
        "id": "QSeLpvY0rH7F",
        "colab_type": "code",
        "outputId": "2904c904-e7b8-4d52-ef49-ed06233642ef",
        "colab": {
          "base_uri": "https://localhost:8080/",
          "height": 731
        }
      },
      "source": [
        "\n",
        "train_datagen = ImageDataGenerator(rescale=1./255,\n",
        "                                   rotation_range=40,\n",
        "                                   width_shift_range=0.2,\n",
        "                                   height_shift_range=0.2,\n",
        "                                   shear_range=0.2,\n",
        "                                   zoom_range=0.2,\n",
        "                                   horizontal_flip=True,)\n",
        "\n",
        "test_datagen = ImageDataGenerator(rescale=1./255)\n",
        "\n",
        "train_generator = train_datagen.flow_from_directory(train_dir,\n",
        "                                                    target_size=(150, 150),\n",
        "                                                    batch_size=32,\n",
        "                                                    class_mode='binary')\n",
        "\n",
        "validation_generator = test_datagen.flow_from_directory(validation_dir,\n",
        "                                                        target_size=(150, 150),\n",
        "                                                        batch_size=32,\n",
        "                                                        class_mode='binary')\n",
        "\n",
        "history = model.fit_generator(train_generator,\n",
        "                              steps_per_epoch=100,\n",
        "                              epochs=20,\n",
        "                              validation_data=validation_generator,\n",
        "                              validation_steps=50)"
      ],
      "execution_count": 0,
      "outputs": [
        {
          "output_type": "stream",
          "text": [
            "Found 2000 images belonging to 2 classes.\n",
            "Found 1000 images belonging to 2 classes.\n",
            "Epoch 1/20\n",
            "100/100 [==============================] - 31s 310ms/step - loss: 0.6929 - acc: 0.5237 - val_loss: 0.6861 - val_acc: 0.5495\n",
            "Epoch 2/20\n",
            "100/100 [==============================] - 27s 274ms/step - loss: 0.6805 - acc: 0.5713 - val_loss: 0.6747 - val_acc: 0.5387\n",
            "Epoch 3/20\n",
            "100/100 [==============================] - 28s 278ms/step - loss: 0.6693 - acc: 0.5850 - val_loss: 0.6545 - val_acc: 0.5958\n",
            "Epoch 4/20\n",
            "100/100 [==============================] - 28s 278ms/step - loss: 0.6527 - acc: 0.6084 - val_loss: 0.6194 - val_acc: 0.6456\n",
            "Epoch 5/20\n",
            "100/100 [==============================] - 27s 268ms/step - loss: 0.6342 - acc: 0.6328 - val_loss: 0.6067 - val_acc: 0.6701\n",
            "Epoch 6/20\n",
            "100/100 [==============================] - 29s 291ms/step - loss: 0.6235 - acc: 0.6428 - val_loss: 0.5959 - val_acc: 0.6759\n",
            "Epoch 7/20\n",
            "100/100 [==============================] - 28s 279ms/step - loss: 0.6101 - acc: 0.6603 - val_loss: 0.5689 - val_acc: 0.7024\n",
            "Epoch 8/20\n",
            "100/100 [==============================] - 28s 278ms/step - loss: 0.5944 - acc: 0.6834 - val_loss: 0.5680 - val_acc: 0.7023\n",
            "Epoch 9/20\n",
            "100/100 [==============================] - 28s 277ms/step - loss: 0.5936 - acc: 0.6772 - val_loss: 0.5632 - val_acc: 0.7075\n",
            "Epoch 10/20\n",
            "100/100 [==============================] - 27s 272ms/step - loss: 0.5876 - acc: 0.6775 - val_loss: 0.5723 - val_acc: 0.6942\n",
            "Epoch 11/20\n",
            "100/100 [==============================] - 28s 281ms/step - loss: 0.5814 - acc: 0.6934 - val_loss: 0.5620 - val_acc: 0.6817\n",
            "Epoch 12/20\n",
            "100/100 [==============================] - 28s 280ms/step - loss: 0.5723 - acc: 0.6984 - val_loss: 0.5268 - val_acc: 0.7348\n",
            "Epoch 13/20\n",
            "100/100 [==============================] - 28s 280ms/step - loss: 0.5601 - acc: 0.7044 - val_loss: 0.5379 - val_acc: 0.7300\n",
            "Epoch 14/20\n",
            "100/100 [==============================] - 28s 280ms/step - loss: 0.5540 - acc: 0.7131 - val_loss: 0.5556 - val_acc: 0.7138\n",
            "Epoch 15/20\n",
            "100/100 [==============================] - 28s 276ms/step - loss: 0.5495 - acc: 0.7169 - val_loss: 0.5153 - val_acc: 0.7564\n",
            "Epoch 16/20\n",
            "100/100 [==============================] - 28s 281ms/step - loss: 0.5526 - acc: 0.7138 - val_loss: 0.5120 - val_acc: 0.7320\n",
            "Epoch 17/20\n",
            "100/100 [==============================] - 26s 260ms/step - loss: 0.5390 - acc: 0.7316 - val_loss: 0.5438 - val_acc: 0.6999\n",
            "Epoch 18/20\n",
            "100/100 [==============================] - 30s 302ms/step - loss: 0.5401 - acc: 0.7231 - val_loss: 0.4913 - val_acc: 0.7597\n",
            "Epoch 19/20\n",
            "100/100 [==============================] - 27s 275ms/step - loss: 0.5303 - acc: 0.7334 - val_loss: 0.5244 - val_acc: 0.7284\n",
            "Epoch 20/20\n",
            "100/100 [==============================] - 28s 280ms/step - loss: 0.5276 - acc: 0.7322 - val_loss: 0.5262 - val_acc: 0.7423\n"
          ],
          "name": "stdout"
        }
      ]
    }
  ]
}