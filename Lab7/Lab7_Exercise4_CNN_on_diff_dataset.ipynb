{
  "nbformat": 4,
  "nbformat_minor": 0,
  "metadata": {
    "colab": {
      "name": "Lab7_Exercise4_CNN_on_diff_dataset.ipynb",
      "provenance": [],
      "collapsed_sections": [],
      "include_colab_link": true
    },
    "kernelspec": {
      "name": "python3",
      "display_name": "Python 3"
    },
    "accelerator": "GPU"
  },
  "cells": [
    {
      "cell_type": "markdown",
      "metadata": {
        "id": "view-in-github",
        "colab_type": "text"
      },
      "source": [
        "<a href=\"https://colab.research.google.com/github/mahaairshad/CE888_si19783/blob/master/Lab7/Lab7_Exercise4_CNN_on_diff_dataset.ipynb\" target=\"_parent\"><img src=\"https://colab.research.google.com/assets/colab-badge.svg\" alt=\"Open In Colab\"/></a>"
      ]
    },
    {
      "cell_type": "markdown",
      "metadata": {
        "id": "qTh9DiKVslsJ",
        "colab_type": "text"
      },
      "source": [
        "## Normal X-ray v/s X-ray with Pneomonia \n",
        "\n",
        "This program implements CNN to identify X-rays with pneumonia.\n",
        "\n",
        "![alt text](https://glassboxmedicine.files.wordpress.com/2019/03/projectional_rendering_of_ct_scan_of_thorax_thumbnail.gif?w=371)\n"
      ]
    },
    {
      "cell_type": "code",
      "metadata": {
        "id": "YmXSOc0tZIGA",
        "colab_type": "code",
        "outputId": "49f43c8f-52a6-4c34-a62b-4885776b01eb",
        "colab": {
          "base_uri": "https://localhost:8080/",
          "height": 34
        }
      },
      "source": [
        "import os\n",
        "os.environ['KAGGLE_USERNAME'] = \"shahzadimahaairshad\" # username from the json file\n",
        "os.environ['KAGGLE_KEY'] = \"6f3ba73e91c8f084ad58268571d65f3c\" # key from the json file\n",
        "!kaggle datasets download -d paultimothymooney/chest-xray-pneumonia # api copied from kaggle "
      ],
      "execution_count": 28,
      "outputs": [
        {
          "output_type": "stream",
          "text": [
            "chest-xray-pneumonia.zip: Skipping, found more recently modified local copy (use --force to force download)\n"
          ],
          "name": "stdout"
        }
      ]
    },
    {
      "cell_type": "code",
      "metadata": {
        "id": "PiwIL8d1n7eS",
        "colab_type": "code",
        "outputId": "00f85320-cc3b-4f84-8407-b253d558eff3",
        "colab": {
          "base_uri": "https://localhost:8080/",
          "height": 34
        }
      },
      "source": [
        "# Upload data\n",
        "from zipfile import ZipFile\n",
        "\n",
        "file_name = \"/content/chest-xray-pneumonia.zip\"\n",
        "\n",
        "with ZipFile(file_name, 'r') as zip:\n",
        "  zip.extractall()\n",
        "  print('done')"
      ],
      "execution_count": 29,
      "outputs": [
        {
          "output_type": "stream",
          "text": [
            "done\n"
          ],
          "name": "stdout"
        }
      ]
    },
    {
      "cell_type": "code",
      "metadata": {
        "id": "CqitTtfuXvG1",
        "colab_type": "code",
        "colab": {
          "base_uri": "https://localhost:8080/",
          "height": 118
        },
        "outputId": "ac431d62-7a23-40c4-b59d-948ade690e00"
      },
      "source": [
        "train_path='/content/chest_xray/train'\n",
        "val_path='/content/chest_xray/val'\n",
        "test_path='/content/chest_xray/test'\n",
        "train_NORMAL_path='/content/chest_xray/train/NORMAL'\n",
        "train_PNEUMONIA_path='/content/chest_xray/train/PNEUMONIA'\n",
        "val_NORMAL_path='/content/chest_xray/val/NORMAL'\n",
        "val_PNEUMONIA_path='/content/chest_xray/val/PNEUMONIA'\n",
        "test_NORMAL_path='/content/chest_xray/test/NORMAL'\n",
        "test_PNEUMONIA_path='/content/chest_xray/test/PNEUMONIA'\n",
        "\n",
        "print('total training normal xray images:', len(os.listdir(train_NORMAL_path)))\n",
        "print('total training pneumonia xray images:', len(os.listdir(train_PNEUMONIA_path)))\n",
        "print('total validation normal xray images:', len(os.listdir(val_NORMAL_path)))\n",
        "print('total validation pneumonia xray images:', len(os.listdir(val_PNEUMONIA_path)))\n",
        "print('total test normal xray images:', len(os.listdir(test_NORMAL_path)))\n",
        "print('total test pneumonia xray images:', len(os.listdir(test_PNEUMONIA_path)))"
      ],
      "execution_count": 34,
      "outputs": [
        {
          "output_type": "stream",
          "text": [
            "total training normal xray images: 1341\n",
            "total training pneumonia xray images: 3875\n",
            "total validation normal xray images: 8\n",
            "total validation pneumonia xray images: 8\n",
            "total test normal xray images: 234\n",
            "total test pneumonia xray images: 390\n"
          ],
          "name": "stdout"
        }
      ]
    },
    {
      "cell_type": "code",
      "metadata": {
        "id": "o9yTA21_r-ma",
        "colab_type": "code",
        "outputId": "f802c191-4567-4955-b0db-48b361b7ddc1",
        "colab": {
          "base_uri": "https://localhost:8080/",
          "height": 521
        }
      },
      "source": [
        "from keras import layers\n",
        "from keras import models\n",
        "\n",
        "model = models.Sequential()\n",
        "model.add(layers.Conv2D(32, (3, 3), activation='relu', input_shape=(150, 150, 3)))\n",
        "model.add(layers.MaxPooling2D((2, 2)))\n",
        "model.add(layers.Conv2D(64, (3, 3), activation='relu'))\n",
        "model.add(layers.MaxPooling2D((2, 2)))\n",
        "model.add(layers.Conv2D(128, (3, 3), activation='relu'))\n",
        "model.add(layers.MaxPooling2D((2, 2)))\n",
        "model.add(layers.Conv2D(128, (3, 3), activation='relu'))\n",
        "model.add(layers.MaxPooling2D((2, 2)))\n",
        "model.add(layers.Flatten())\n",
        "model.add(layers.Dense(512, activation='relu'))\n",
        "model.add(layers.Dense(1, activation='sigmoid'))\n",
        "model.summary()"
      ],
      "execution_count": 35,
      "outputs": [
        {
          "output_type": "stream",
          "text": [
            "Model: \"sequential_3\"\n",
            "_________________________________________________________________\n",
            "Layer (type)                 Output Shape              Param #   \n",
            "=================================================================\n",
            "conv2d_9 (Conv2D)            (None, 148, 148, 32)      896       \n",
            "_________________________________________________________________\n",
            "max_pooling2d_9 (MaxPooling2 (None, 74, 74, 32)        0         \n",
            "_________________________________________________________________\n",
            "conv2d_10 (Conv2D)           (None, 72, 72, 64)        18496     \n",
            "_________________________________________________________________\n",
            "max_pooling2d_10 (MaxPooling (None, 36, 36, 64)        0         \n",
            "_________________________________________________________________\n",
            "conv2d_11 (Conv2D)           (None, 34, 34, 128)       73856     \n",
            "_________________________________________________________________\n",
            "max_pooling2d_11 (MaxPooling (None, 17, 17, 128)       0         \n",
            "_________________________________________________________________\n",
            "conv2d_12 (Conv2D)           (None, 15, 15, 128)       147584    \n",
            "_________________________________________________________________\n",
            "max_pooling2d_12 (MaxPooling (None, 7, 7, 128)         0         \n",
            "_________________________________________________________________\n",
            "flatten_3 (Flatten)          (None, 6272)              0         \n",
            "_________________________________________________________________\n",
            "dense_5 (Dense)              (None, 512)               3211776   \n",
            "_________________________________________________________________\n",
            "dense_6 (Dense)              (None, 1)                 513       \n",
            "=================================================================\n",
            "Total params: 3,453,121\n",
            "Trainable params: 3,453,121\n",
            "Non-trainable params: 0\n",
            "_________________________________________________________________\n"
          ],
          "name": "stdout"
        }
      ]
    },
    {
      "cell_type": "code",
      "metadata": {
        "id": "2mG8wekxsBVS",
        "colab_type": "code",
        "colab": {}
      },
      "source": [
        "from keras import optimizers\n",
        "model.compile(loss='binary_crossentropy', \n",
        "              optimizer=optimizers.RMSprop(lr=1e-4),\n",
        "              metrics=['acc'])"
      ],
      "execution_count": 0,
      "outputs": []
    },
    {
      "cell_type": "markdown",
      "metadata": {
        "id": "7zS4Klm8qWp6",
        "colab_type": "text"
      },
      "source": [
        "## Using ImageDataGenerator to read images from directories"
      ]
    },
    {
      "cell_type": "code",
      "metadata": {
        "id": "XJ7XU7t9sEh6",
        "colab_type": "code",
        "outputId": "6736958f-3798-4137-9d57-7d79195f8cc1",
        "colab": {
          "base_uri": "https://localhost:8080/",
          "height": 50
        }
      },
      "source": [
        "from keras.preprocessing.image import ImageDataGenerator\n",
        "\n",
        "train_datagen = ImageDataGenerator(rescale=1./255)\n",
        "test_datagen = ImageDataGenerator(rescale=1./255)\n",
        "\n",
        "train_generator = train_datagen.flow_from_directory(train_path,\n",
        "                                                    target_size=(150, 150), \n",
        "                                                    batch_size=20,\n",
        "                                                    class_mode='binary')\n",
        "\n",
        "validation_generator = test_datagen.flow_from_directory(val_path,\n",
        "                                                        target_size=(150, 150),\n",
        "                                                        batch_size=20,\n",
        "                                                        class_mode='binary')"
      ],
      "execution_count": 37,
      "outputs": [
        {
          "output_type": "stream",
          "text": [
            "Found 5216 images belonging to 2 classes.\n",
            "Found 16 images belonging to 2 classes.\n"
          ],
          "name": "stdout"
        }
      ]
    },
    {
      "cell_type": "code",
      "metadata": {
        "id": "yMyfPphJsJG6",
        "colab_type": "code",
        "outputId": "a2f2a90a-811c-4762-b233-e79be01e2cb4",
        "colab": {
          "base_uri": "https://localhost:8080/",
          "height": 1000
        }
      },
      "source": [
        "history = model.fit_generator(train_generator,\n",
        "                              steps_per_epoch=100,\n",
        "                              epochs=30,\n",
        "                              validation_data=validation_generator,\n",
        "                              validation_steps=10)"
      ],
      "execution_count": 38,
      "outputs": [
        {
          "output_type": "stream",
          "text": [
            "Epoch 1/30\n",
            "100/100 [==============================] - 22s 223ms/step - loss: 0.4974 - acc: 0.7715 - val_loss: 0.9969 - val_acc: 0.6250\n",
            "Epoch 2/30\n",
            "100/100 [==============================] - 20s 203ms/step - loss: 0.2765 - acc: 0.8890 - val_loss: 0.4096 - val_acc: 0.8750\n",
            "Epoch 3/30\n",
            "100/100 [==============================] - 21s 208ms/step - loss: 0.1830 - acc: 0.9303 - val_loss: 0.5930 - val_acc: 0.7500\n",
            "Epoch 4/30\n",
            "100/100 [==============================] - 20s 203ms/step - loss: 0.1298 - acc: 0.9554 - val_loss: 0.3336 - val_acc: 0.9375\n",
            "Epoch 5/30\n",
            "100/100 [==============================] - 20s 197ms/step - loss: 0.1358 - acc: 0.9450 - val_loss: 0.5704 - val_acc: 0.7500\n",
            "Epoch 6/30\n",
            "100/100 [==============================] - 21s 208ms/step - loss: 0.1230 - acc: 0.9460 - val_loss: 0.4334 - val_acc: 0.8125\n",
            "Epoch 7/30\n",
            "100/100 [==============================] - 20s 201ms/step - loss: 0.1058 - acc: 0.9590 - val_loss: 0.4460 - val_acc: 0.8125\n",
            "Epoch 8/30\n",
            "100/100 [==============================] - 20s 203ms/step - loss: 0.0918 - acc: 0.9655 - val_loss: 0.3277 - val_acc: 0.8750\n",
            "Epoch 9/30\n",
            "100/100 [==============================] - 21s 209ms/step - loss: 0.0836 - acc: 0.9660 - val_loss: 0.9184 - val_acc: 0.6875\n",
            "Epoch 10/30\n",
            "100/100 [==============================] - 21s 210ms/step - loss: 0.0904 - acc: 0.9685 - val_loss: 0.5514 - val_acc: 0.8125\n",
            "Epoch 11/30\n",
            "100/100 [==============================] - 21s 213ms/step - loss: 0.0816 - acc: 0.9695 - val_loss: 0.8019 - val_acc: 0.7500\n",
            "Epoch 12/30\n",
            "100/100 [==============================] - 21s 210ms/step - loss: 0.0794 - acc: 0.9685 - val_loss: 0.8058 - val_acc: 0.6875\n",
            "Epoch 13/30\n",
            "100/100 [==============================] - 20s 205ms/step - loss: 0.0677 - acc: 0.9730 - val_loss: 0.9849 - val_acc: 0.6250\n",
            "Epoch 14/30\n",
            "100/100 [==============================] - 22s 221ms/step - loss: 0.0791 - acc: 0.9730 - val_loss: 0.7541 - val_acc: 0.7500\n",
            "Epoch 15/30\n",
            "100/100 [==============================] - 21s 206ms/step - loss: 0.0483 - acc: 0.9820 - val_loss: 0.1407 - val_acc: 1.0000\n",
            "Epoch 16/30\n",
            "100/100 [==============================] - 21s 213ms/step - loss: 0.0735 - acc: 0.9704 - val_loss: 0.1704 - val_acc: 0.8750\n",
            "Epoch 17/30\n",
            "100/100 [==============================] - 20s 201ms/step - loss: 0.0539 - acc: 0.9789 - val_loss: 0.9496 - val_acc: 0.7500\n",
            "Epoch 18/30\n",
            "100/100 [==============================] - 21s 212ms/step - loss: 0.0644 - acc: 0.9770 - val_loss: 0.8677 - val_acc: 0.6875\n",
            "Epoch 19/30\n",
            "100/100 [==============================] - 20s 200ms/step - loss: 0.0462 - acc: 0.9830 - val_loss: 0.3344 - val_acc: 0.8750\n",
            "Epoch 20/30\n",
            "100/100 [==============================] - 21s 207ms/step - loss: 0.0622 - acc: 0.9775 - val_loss: 0.5960 - val_acc: 0.8125\n",
            "Epoch 21/30\n",
            "100/100 [==============================] - 21s 206ms/step - loss: 0.0529 - acc: 0.9820 - val_loss: 0.4056 - val_acc: 0.8125\n",
            "Epoch 22/30\n",
            "100/100 [==============================] - 21s 209ms/step - loss: 0.0463 - acc: 0.9830 - val_loss: 0.3304 - val_acc: 0.8750\n",
            "Epoch 23/30\n",
            "100/100 [==============================] - 20s 205ms/step - loss: 0.0500 - acc: 0.9830 - val_loss: 0.4823 - val_acc: 0.8125\n",
            "Epoch 24/30\n",
            "100/100 [==============================] - 20s 200ms/step - loss: 0.0419 - acc: 0.9830 - val_loss: 0.7014 - val_acc: 0.8125\n",
            "Epoch 25/30\n",
            "100/100 [==============================] - 21s 209ms/step - loss: 0.0494 - acc: 0.9845 - val_loss: 0.8983 - val_acc: 0.8125\n",
            "Epoch 26/30\n",
            "100/100 [==============================] - 20s 205ms/step - loss: 0.0425 - acc: 0.9835 - val_loss: 0.2905 - val_acc: 0.8750\n",
            "Epoch 27/30\n",
            "100/100 [==============================] - 20s 204ms/step - loss: 0.0379 - acc: 0.9860 - val_loss: 0.4060 - val_acc: 0.8125\n",
            "Epoch 28/30\n",
            "100/100 [==============================] - 21s 209ms/step - loss: 0.0357 - acc: 0.9865 - val_loss: 0.6624 - val_acc: 0.8125\n",
            "Epoch 29/30\n",
            "100/100 [==============================] - 20s 201ms/step - loss: 0.0393 - acc: 0.9850 - val_loss: 0.3668 - val_acc: 0.8750\n",
            "Epoch 30/30\n",
            "100/100 [==============================] - 20s 204ms/step - loss: 0.0417 - acc: 0.9865 - val_loss: 0.3837 - val_acc: 0.8750\n"
          ],
          "name": "stdout"
        }
      ]
    },
    {
      "cell_type": "code",
      "metadata": {
        "id": "MZaZ2HWZsNUi",
        "colab_type": "code",
        "outputId": "9f85ea0b-9f61-48dd-f27a-6c90264a0e8d",
        "colab": {
          "base_uri": "https://localhost:8080/",
          "height": 545
        }
      },
      "source": [
        "model.save('x_ray.h5')\n",
        "\n",
        "import matplotlib.pyplot as plt\n",
        "\n",
        "acc = history.history['acc']\n",
        "val_acc = history.history['val_acc']\n",
        "loss = history.history['loss']\n",
        "val_loss = history.history['val_loss']\n",
        "\n",
        "epochs = range(1, len(acc) + 1)\n",
        "\n",
        "plt.plot(epochs, acc, 'bo', label='Training acc')\n",
        "plt.plot(epochs, val_acc, 'b', label='Validation acc')\n",
        "plt.title('Training and validation accuracy')\n",
        "plt.legend()\n",
        "\n",
        "plt.figure()\n",
        "\n",
        "plt.plot(epochs, loss, 'bo', label='Training loss')\n",
        "plt.plot(epochs, val_loss, 'b', label='Validation loss')\n",
        "plt.title('Training and validation loss')\n",
        "plt.legend()\n",
        "\n",
        "plt.show()"
      ],
      "execution_count": 39,
      "outputs": [
        {
          "output_type": "display_data",
          "data": {
            "image/png": "[encoded data removed]",
            "text/plain": [
              "<Figure size 432x288 with 1 Axes>"
            ]
          },
          "metadata": {
            "tags": []
          }
        },
        {
          "output_type": "display_data",
          "data": {
            "image/png": "[encoded data removed]",
            "text/plain": [
              "<Figure size 432x288 with 1 Axes>"
            ]
          },
          "metadata": {
            "tags": []
          }
        }
      ]
    },
    {
      "cell_type": "markdown",
      "metadata": {
        "id": "XKZmXmBcq_8-",
        "colab_type": "text"
      },
      "source": [
        "## Convolutional Networks with Dropout\n",
        "\n",
        "![alt text](https://camo.githubusercontent.com/ee6fa1073247cd2c3d241300caf110d7a7541bc5/68747470733a2f2f63646e2d696d616765732d312e6d656469756d2e636f6d2f6d61782f3830302f312a4972644a355067684439596f4f7956415137334d4a772e676966)\n",
        "\n",
        "Ref: https://github.com/mneha4/Training-Neural-Nets---Guidelines"
      ]
    },
    {
      "cell_type": "code",
      "metadata": {
        "id": "wu3cqeYQrDeN",
        "colab_type": "code",
        "colab": {}
      },
      "source": [
        "model = models.Sequential()\n",
        "model.add(layers.Conv2D(32, (3, 3), activation='relu',\n",
        "input_shape=(150, 150, 3)))\n",
        "model.add(layers.MaxPooling2D((2, 2)))\n",
        "model.add(layers.Conv2D(64, (3, 3), activation='relu'))\n",
        "model.add(layers.MaxPooling2D((2, 2)))\n",
        "model.add(layers.Conv2D(128, (3, 3), activation='relu'))\n",
        "model.add(layers.MaxPooling2D((2, 2)))\n",
        "model.add(layers.Conv2D(128, (3, 3), activation='relu'))\n",
        "model.add(layers.MaxPooling2D((2, 2)))\n",
        "model.add(layers.Flatten())\n",
        "model.add(layers.Dropout(0.5))\n",
        "model.add(layers.Dense(512, activation='relu'))\n",
        "model.add(layers.Dense(1, activation='sigmoid'))\n",
        "\n",
        "model.compile(loss='binary_crossentropy',\n",
        "              optimizer=optimizers.RMSprop(lr=1e-4),\n",
        "              metrics=['acc'])"
      ],
      "execution_count": 0,
      "outputs": []
    },
    {
      "cell_type": "code",
      "metadata": {
        "id": "QSeLpvY0rH7F",
        "colab_type": "code",
        "outputId": "78880f7a-a4df-4306-9619-c911b10eed8c",
        "colab": {
          "base_uri": "https://localhost:8080/",
          "height": 722
        }
      },
      "source": [
        "\n",
        "train_datagen = ImageDataGenerator(rescale=1./255,\n",
        "                                   rotation_range=40,\n",
        "                                   width_shift_range=0.2,\n",
        "                                   height_shift_range=0.2,\n",
        "                                   shear_range=0.2,\n",
        "                                   zoom_range=0.2,\n",
        "                                   horizontal_flip=True,)\n",
        "\n",
        "test_datagen = ImageDataGenerator(rescale=1./255)\n",
        "\n",
        "train_generator = train_datagen.flow_from_directory(train_path,\n",
        "                                                    target_size=(150, 150),\n",
        "                                                    batch_size=32,\n",
        "                                                    class_mode='binary')\n",
        "\n",
        "validation_generator = test_datagen.flow_from_directory(val_path,\n",
        "                                                        target_size=(150, 150),\n",
        "                                                        batch_size=32,\n",
        "                                                        class_mode='binary')\n",
        "\n",
        "history = model.fit_generator(train_generator,\n",
        "                              steps_per_epoch=100,\n",
        "                              epochs=20,\n",
        "                              validation_data=validation_generator,\n",
        "                              validation_steps=50)"
      ],
      "execution_count": 41,
      "outputs": [
        {
          "output_type": "stream",
          "text": [
            "Found 2000 images belonging to 2 classes.\n",
            "Found 1000 images belonging to 2 classes.\n",
            "Epoch 1/20\n",
            "100/100 [==============================] - 29s 286ms/step - loss: 0.6883 - acc: 0.5278 - val_loss: 0.7354 - val_acc: 0.5127\n",
            "Epoch 2/20\n",
            "100/100 [==============================] - 26s 259ms/step - loss: 0.6700 - acc: 0.5810 - val_loss: 0.6458 - val_acc: 0.6302\n",
            "Epoch 3/20\n",
            "100/100 [==============================] - 26s 261ms/step - loss: 0.6495 - acc: 0.6138 - val_loss: 0.6195 - val_acc: 0.6478\n",
            "Epoch 4/20\n",
            "100/100 [==============================] - 26s 260ms/step - loss: 0.6270 - acc: 0.6506 - val_loss: 0.6398 - val_acc: 0.6250\n",
            "Epoch 5/20\n",
            "100/100 [==============================] - 25s 248ms/step - loss: 0.6116 - acc: 0.6653 - val_loss: 0.6910 - val_acc: 0.5939\n",
            "Epoch 6/20\n",
            "100/100 [==============================] - 28s 279ms/step - loss: 0.6004 - acc: 0.6750 - val_loss: 0.5647 - val_acc: 0.6952\n",
            "Epoch 7/20\n",
            "100/100 [==============================] - 26s 259ms/step - loss: 0.5962 - acc: 0.6784 - val_loss: 0.5716 - val_acc: 0.6942\n",
            "Epoch 8/20\n",
            "100/100 [==============================] - 26s 263ms/step - loss: 0.5856 - acc: 0.6850 - val_loss: 0.5662 - val_acc: 0.7017\n",
            "Epoch 9/20\n",
            "100/100 [==============================] - 26s 261ms/step - loss: 0.5687 - acc: 0.7025 - val_loss: 0.6034 - val_acc: 0.6707\n",
            "Epoch 10/20\n",
            "100/100 [==============================] - 26s 256ms/step - loss: 0.5666 - acc: 0.7019 - val_loss: 0.5868 - val_acc: 0.6707\n",
            "Epoch 11/20\n",
            "100/100 [==============================] - 27s 270ms/step - loss: 0.5611 - acc: 0.7047 - val_loss: 0.5460 - val_acc: 0.7107\n",
            "Epoch 12/20\n",
            "100/100 [==============================] - 26s 263ms/step - loss: 0.5597 - acc: 0.7062 - val_loss: 0.6007 - val_acc: 0.6815\n",
            "Epoch 13/20\n",
            "100/100 [==============================] - 26s 261ms/step - loss: 0.5440 - acc: 0.7225 - val_loss: 0.5778 - val_acc: 0.6978\n",
            "Epoch 14/20\n",
            "100/100 [==============================] - 26s 262ms/step - loss: 0.5483 - acc: 0.7225 - val_loss: 0.5103 - val_acc: 0.7379\n",
            "Epoch 15/20\n",
            "100/100 [==============================] - 26s 263ms/step - loss: 0.5394 - acc: 0.7297 - val_loss: 0.5576 - val_acc: 0.7139\n",
            "Epoch 16/20\n",
            "100/100 [==============================] - 26s 259ms/step - loss: 0.5375 - acc: 0.7216 - val_loss: 0.5094 - val_acc: 0.7513\n",
            "Epoch 17/20\n",
            "100/100 [==============================] - 25s 246ms/step - loss: 0.5340 - acc: 0.7234 - val_loss: 0.5802 - val_acc: 0.7037\n",
            "Epoch 18/20\n",
            "100/100 [==============================] - 28s 284ms/step - loss: 0.5330 - acc: 0.7331 - val_loss: 0.5444 - val_acc: 0.7300\n",
            "Epoch 19/20\n",
            "100/100 [==============================] - 26s 264ms/step - loss: 0.5274 - acc: 0.7235 - val_loss: 0.5295 - val_acc: 0.7316\n",
            "Epoch 20/20\n",
            "100/100 [==============================] - 26s 262ms/step - loss: 0.5284 - acc: 0.7356 - val_loss: 0.5066 - val_acc: 0.7345\n"
          ],
          "name": "stdout"
        }
      ]
    }
  ]
}