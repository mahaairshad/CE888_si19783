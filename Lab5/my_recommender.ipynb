{
  "nbformat": 4,
  "nbformat_minor": 0,
  "metadata": {
    "colab": {
      "name": "my_recommender.ipynb",
      "provenance": [],
      "collapsed_sections": [],
      "authorship_tag": "ABX9TyMsZkQBowzuh0QBe0LmzoTA",
      "include_colab_link": true
    },
    "kernelspec": {
      "name": "python3",
      "display_name": "Python 3"
    },
    "accelerator": "GPU"
  },
  "cells": [
    {
      "cell_type": "markdown",
      "metadata": {
        "id": "view-in-github",
        "colab_type": "text"
      },
      "source": [
        "<a href=\"https://colab.research.google.com/github/mahaairshad/CE888_si19783/blob/master/Lab5/my_recommender.ipynb\" target=\"_parent\"><img src=\"https://colab.research.google.com/assets/colab-badge.svg\" alt=\"Open In Colab\"/></a>"
      ]
    },
    {
      "cell_type": "markdown",
      "metadata": {
        "id": "DZtON1nqiXNL",
        "colab_type": "text"
      },
      "source": [
        "# **Lab5: Recommender**"
      ]
    },
    {
      "cell_type": "code",
      "metadata": {
        "id": "nk3rDylAs5VR",
        "colab_type": "code",
        "colab": {}
      },
      "source": [
        "import pandas as pd\n",
        "import numpy as np\n",
        "from IPython.display import Image\n",
        "np.set_printoptions(precision = 3)"
      ],
      "execution_count": 0,
      "outputs": []
    },
    {
      "cell_type": "code",
      "metadata": {
        "id": "jH8eYzyW1_x6",
        "colab_type": "code",
        "outputId": "522aaf24-41de-4fce-ed89-61d20a58892c",
        "colab": {
          "base_uri": "https://localhost:8080/",
          "height": 252
        }
      },
      "source": [
        "df = pd.read_csv('https://raw.githubusercontent.com/albanda/CE888/master/lab5-recommender/jester-data-1.csv',header=None)\n",
        "print(df)"
      ],
      "execution_count": 74,
      "outputs": [
        {
          "output_type": "stream",
          "text": [
            "       0      1      2      3      4    ...    96     97     98     99     100\n",
            "0       74  -7.82   8.79  -9.66  -8.16  ...  99.00  -5.63  99.00  99.00  99.00\n",
            "1      100   4.08  -0.29   6.36   4.37  ...  -2.14   3.06   0.34  -4.32   1.07\n",
            "2       49  99.00  99.00  99.00  99.00  ...  99.00  99.00  99.00  99.00  99.00\n",
            "3       48  99.00   8.35  99.00  99.00  ...  99.00  99.00  99.00  99.00  99.00\n",
            "4       91   8.50   4.61  -4.17  -5.39  ...   1.55   3.11   6.55   1.80   1.60\n",
            "...    ...    ...    ...    ...    ...  ...    ...    ...    ...    ...    ...\n",
            "24978  100   0.44   7.43   9.08   2.33  ...   9.03   6.55   8.69   8.79   7.43\n",
            "24979   91   9.13  -8.16   8.59   9.08  ...  -8.20  -7.23  -8.59   9.13   8.45\n",
            "24980   39  99.00  99.00  99.00  99.00  ...  99.00  99.00  99.00  99.00  99.00\n",
            "24981   37  99.00  99.00  99.00  99.00  ...  99.00  99.00  99.00  99.00  99.00\n",
            "24982   72   2.43   2.67  -3.98   4.27  ...  99.00  99.00  99.00  99.00  99.00\n",
            "\n",
            "[24983 rows x 101 columns]\n"
          ],
          "name": "stdout"
        }
      ]
    },
    {
      "cell_type": "code",
      "metadata": {
        "id": "b3k8JQwbGfsW",
        "colab_type": "code",
        "colab": {}
      },
      "source": [
        "joke_count=df[0]\n",
        "df=df.drop(columns=0)"
      ],
      "execution_count": 0,
      "outputs": []
    },
    {
      "cell_type": "code",
      "metadata": {
        "id": "eCkm_mmwKx5q",
        "colab_type": "code",
        "colab": {}
      },
      "source": [
        "data=df.values"
      ],
      "execution_count": 0,
      "outputs": []
    },
    {
      "cell_type": "code",
      "metadata": {
        "id": "XSe-o9pDSGYN",
        "colab_type": "code",
        "outputId": "87034fcd-79a4-4da5-86d9-e6d3fef68ec9",
        "colab": {
          "base_uri": "https://localhost:8080/",
          "height": 34
        }
      },
      "source": [
        "data.shape"
      ],
      "execution_count": 77,
      "outputs": [
        {
          "output_type": "execute_result",
          "data": {
            "text/plain": [
              "(24983, 100)"
            ]
          },
          "metadata": {
            "tags": []
          },
          "execution_count": 77
        }
      ]
    },
    {
      "cell_type": "markdown",
      "metadata": {
        "id": "ehadxBT4GEdf",
        "colab_type": "text"
      },
      "source": [
        "# Separate 10% data for validation set by assigning 99 (NaN)"
      ]
    },
    {
      "cell_type": "code",
      "metadata": {
        "id": "xotdCJqg3pDe",
        "colab_type": "code",
        "colab": {}
      },
      "source": [
        "def replace(orig, percentage=0.1):\n",
        "  \"\"\"\n",
        "  Replaces 'percentage'% of the original values in 'orig' with 99's\n",
        "  :param orig: original data array\n",
        "  :param percentage: percentage of values to replace (0<percentage<1)\n",
        "  \"\"\"\n",
        "  new_data = orig.copy()\n",
        "  rated = np.where(data!=99) #ignoring all the ratings that were never available for the test guys\n",
        "  n_rated = len(rated[0])\n",
        "  idx = np.random.choice(n_rated, size=int(percentage*n_rated), replace=False)\n",
        "  new_data[rated[0][idx], rated[1][idx]] = 99\n",
        "  return new_data, (rated[0][idx], rated[1][idx])"
      ],
      "execution_count": 0,
      "outputs": []
    },
    {
      "cell_type": "code",
      "metadata": {
        "id": "IPQ0w1DrLRpq",
        "colab_type": "code",
        "colab": {}
      },
      "source": [
        "new_data, idx = replace(data, 0.1)"
      ],
      "execution_count": 0,
      "outputs": []
    },
    {
      "cell_type": "code",
      "metadata": {
        "id": "gESRgAsoLHcT",
        "colab_type": "code",
        "colab": {}
      },
      "source": [
        "Actual_data=data.copy() #all the data with the actual rating [rows=users],[columns=items/products]"
      ],
      "execution_count": 0,
      "outputs": []
    },
    {
      "cell_type": "code",
      "metadata": {
        "id": "GjHR8J3LPOwX",
        "colab_type": "code",
        "colab": {}
      },
      "source": [
        "Train_data=new_data.copy() #10% of values from 'data' set to 99 to be used as test data later [rows=users],[columns=items/products]"
      ],
      "execution_count": 0,
      "outputs": []
    },
    {
      "cell_type": "code",
      "metadata": {
        "id": "KCAkE4HhA6pX",
        "colab_type": "code",
        "outputId": "d912e374-0339-40d3-d48c-00f260d895f8",
        "colab": {
          "base_uri": "https://localhost:8080/",
          "height": 34
        }
      },
      "source": [
        "Actual_data.shape"
      ],
      "execution_count": 83,
      "outputs": [
        {
          "output_type": "execute_result",
          "data": {
            "text/plain": [
              "(24983, 100)"
            ]
          },
          "metadata": {
            "tags": []
          },
          "execution_count": 83
        }
      ]
    },
    {
      "cell_type": "markdown",
      "metadata": {
        "id": "ugvLF7A0Ym2W",
        "colab_type": "text"
      },
      "source": [
        "#Inferring hidden ratings by latent factor modeling"
      ]
    },
    {
      "cell_type": "code",
      "metadata": {
        "id": "6Pcf1UMzewij",
        "colab_type": "code",
        "colab": {}
      },
      "source": [
        "def predict_rating(user_row,item_row):\n",
        "  user_values=user_preferences[user_row]\n",
        "  item_values=item_factors[item_row]\n",
        "  return user_values.dot(item_values)"
      ],
      "execution_count": 0,
      "outputs": []
    },
    {
      "cell_type": "code",
      "metadata": {
        "id": "lF_MY14hdBWC",
        "colab_type": "code",
        "colab": {}
      },
      "source": [
        "def train(user_row, item_row, rating, alpha):\n",
        "  err= rating - predict_rating(user_row, item_row)\n",
        "  temp= user_preferences[user_row]\n",
        "  user_preferences[user_row] += alpha * err * item_factors[item_row]\n",
        "  item_factors[item_row] += alpha * err * temp\n",
        "  return err"
      ],
      "execution_count": 0,
      "outputs": []
    },
    {
      "cell_type": "code",
      "metadata": {
        "id": "HuPE02KWfKrE",
        "colab_type": "code",
        "colab": {}
      },
      "source": [
        "def sgd_svd(iterations,alpha):\n",
        "  for i in range(iterations):\n",
        "    error=[]\n",
        "    for user_row in range (user_preferences.shape[0]):\n",
        "      for item_row in range (item_factors.shape[0]):\n",
        "        rating= user_ratings[user_row][item_row]\n",
        "        if rating != 99:\n",
        "          err=train(user_row, item_row, rating, alpha)\n",
        "          error.append(err)\n",
        "  mse = (np.array(error) ** 2).mean()          \n",
        "  print(mse)"
      ],
      "execution_count": 0,
      "outputs": []
    },
    {
      "cell_type": "markdown",
      "metadata": {
        "id": "P7hgoWU5hxry",
        "colab_type": "text"
      },
      "source": [
        "#Changing hyper-parameters for better results"
      ]
    },
    {
      "cell_type": "code",
      "metadata": {
        "id": "4VHQ0_Fz7NFL",
        "colab_type": "code",
        "colab": {}
      },
      "source": [
        "# Evaluating recommender on test data\n",
        "def eval_on_ValData():\n",
        "  error=[]\n",
        "  pred=user_preferences.dot(item_factors.T)\n",
        "  error=Actual_data[idx]-pred[idx]\n",
        "  mse = (np.array(error) ** 2).mean()\n",
        "  print(mse)"
      ],
      "execution_count": 0,
      "outputs": []
    },
    {
      "cell_type": "markdown",
      "metadata": {
        "id": "OjDNBk0T5y0T",
        "colab_type": "text"
      },
      "source": [
        "Latent factors=2, Learning rate = 0.0001, No. of SVD iter = 5"
      ]
    },
    {
      "cell_type": "code",
      "metadata": {
        "id": "dw-gGhS_grck",
        "colab_type": "code",
        "outputId": "b3938c7b-c282-4f03-d38c-ec6972bf3ba4",
        "colab": {
          "base_uri": "https://localhost:8080/",
          "height": 185
        }
      },
      "source": [
        "latent_factors=2\n",
        "user_preferences=np.random.rand(len(Train_data[:,0]),latent_factors) #creating random array of same shape as that of Train_data\n",
        "item_factors=np.random.rand(len(Train_data[0,:]),latent_factors)\n",
        "user_ratings = Train_data.copy() \n",
        "for _ in range(10):\n",
        "  sgd_svd(5,0.0001)   # reduced no. of iterations to 5 to reduce processing time"
      ],
      "execution_count": 88,
      "outputs": [
        {
          "output_type": "stream",
          "text": [
            "24.550659715878115\n",
            "23.459905228496048\n",
            "22.374765618134\n",
            "21.22807216969058\n",
            "19.69990671221712\n",
            "18.239598247487425\n",
            "17.573259923405104\n",
            "17.325741547639904\n",
            "17.214513710204223\n",
            "17.156038787406345\n"
          ],
          "name": "stdout"
        }
      ]
    },
    {
      "cell_type": "code",
      "metadata": {
        "id": "-ogmSQfQ7YdP",
        "colab_type": "code",
        "colab": {
          "base_uri": "https://localhost:8080/",
          "height": 34
        },
        "outputId": "169dbcf9-b0c8-498d-90bb-16dc3fa051d2"
      },
      "source": [
        "eval_on_ValData() #Test on Validation Data"
      ],
      "execution_count": 115,
      "outputs": [
        {
          "output_type": "stream",
          "text": [
            "18.181513066140308\n"
          ],
          "name": "stdout"
        }
      ]
    },
    {
      "cell_type": "markdown",
      "metadata": {
        "id": "buTHJBcZ6LMt",
        "colab_type": "text"
      },
      "source": [
        "Latent factors=4, Learning rate = 0.0001, No. of SVD iter = 5"
      ]
    },
    {
      "cell_type": "code",
      "metadata": {
        "id": "WtyhjmOc6FnD",
        "colab_type": "code",
        "colab": {
          "base_uri": "https://localhost:8080/",
          "height": 185
        },
        "outputId": "63d6d489-399d-4f01-be03-fe90ca05a5cc"
      },
      "source": [
        "latent_factors=4\n",
        "user_preferences=np.random.rand(len(Train_data[:,0]),latent_factors) #creating random array of same shape as that of Train_data\n",
        "item_factors=np.random.rand(len(Train_data[0,:]),latent_factors)\n",
        "for _ in range(10):\n",
        "  sgd_svd(5,0.0001)  "
      ],
      "execution_count": 116,
      "outputs": [
        {
          "output_type": "stream",
          "text": [
            "24.6372665000038\n",
            "24.037620837198574\n",
            "23.33996276657925\n",
            "22.205649385458067\n",
            "20.015836079514337\n",
            "18.22466212834178\n",
            "17.629007364798944\n",
            "17.408762514589476\n",
            "17.28439529279141\n",
            "17.189563803175552\n"
          ],
          "name": "stdout"
        }
      ]
    },
    {
      "cell_type": "code",
      "metadata": {
        "id": "3wwExe_O7T4T",
        "colab_type": "code",
        "colab": {
          "base_uri": "https://localhost:8080/",
          "height": 34
        },
        "outputId": "fc529b48-1194-432c-d6d6-8f1818846861"
      },
      "source": [
        "eval_on_ValData()"
      ],
      "execution_count": 117,
      "outputs": [
        {
          "output_type": "stream",
          "text": [
            "18.152446119603542\n"
          ],
          "name": "stdout"
        }
      ]
    },
    {
      "cell_type": "markdown",
      "metadata": {
        "id": "hxC8kBCC6Qk7",
        "colab_type": "text"
      },
      "source": [
        "Latent factors=6, Learning rate = 0.0001, No. of SVD iter = 10"
      ]
    },
    {
      "cell_type": "code",
      "metadata": {
        "id": "Qe3v5kLg6r7I",
        "colab_type": "code",
        "colab": {
          "base_uri": "https://localhost:8080/",
          "height": 185
        },
        "outputId": "8ab20a21-3736-4d43-fc6b-811a2d82492e"
      },
      "source": [
        "latent_factors=6\n",
        "user_preferences=np.random.rand(len(Train_data[:,0]),latent_factors) #creating random array of same shape as that of Train_data\n",
        "item_factors=np.random.rand(len(Train_data[0,:]),latent_factors)\n",
        "for _ in range(10):\n",
        "  sgd_svd(10,0.0001)  "
      ],
      "execution_count": 124,
      "outputs": [
        {
          "output_type": "stream",
          "text": [
            "24.28379285109353\n",
            "21.992007231090035\n",
            "17.970908036896823\n",
            "17.441760541292098\n",
            "17.133386280559158\n",
            "16.71002930992531\n",
            "16.189414352588894\n",
            "15.728652329394611\n",
            "15.387871386533345\n",
            "15.14059080501432\n"
          ],
          "name": "stdout"
        }
      ]
    },
    {
      "cell_type": "code",
      "metadata": {
        "id": "bVeXUx01X9LY",
        "colab_type": "code",
        "outputId": "de3a1b94-4bb6-4ef9-cbfc-20331d965278",
        "colab": {
          "base_uri": "https://localhost:8080/",
          "height": 34
        }
      },
      "source": [
        "eval_on_ValData()"
      ],
      "execution_count": 125,
      "outputs": [
        {
          "output_type": "stream",
          "text": [
            "17.144824666404638\n"
          ],
          "name": "stdout"
        }
      ]
    },
    {
      "cell_type": "markdown",
      "metadata": {
        "id": "ON3imhBwmh-o",
        "colab_type": "text"
      },
      "source": [
        "#Visual Comparison"
      ]
    },
    {
      "cell_type": "code",
      "metadata": {
        "id": "9sN-P7Y4YkHp",
        "colab_type": "code",
        "colab": {}
      },
      "source": [
        "Compar=np.empty(data.shape,dtype=object)\n",
        "for user_row in range (user_preferences.shape[0]):\n",
        "    for item_row in range (item_factors.shape[0]):\n",
        "      rating= Actual_data[user_row][item_row]\n",
        "      pred_rating=predict_rating(user_row,item_row)\n",
        "      Compar[user_row][item_row]=str(rating)+\"|\"+str(np.round(pred_rating,decimals=2))  "
      ],
      "execution_count": 0,
      "outputs": []
    },
    {
      "cell_type": "code",
      "metadata": {
        "id": "l8XiEfGGmDR1",
        "colab_type": "code",
        "colab": {
          "base_uri": "https://localhost:8080/",
          "height": 244
        },
        "outputId": "6e3938e2-c982-43e3-c49a-fa00584a5b4b"
      },
      "source": [
        "import pandas as pd\n",
        "\n",
        "df = pd.DataFrame(data=Compar)\n",
        "df.head(5)"
      ],
      "execution_count": 127,
      "outputs": [
        {
          "output_type": "execute_result",
          "data": {
            "text/html": [
              "<div>\n",
              "<style scoped>\n",
              "    .dataframe tbody tr th:only-of-type {\n",
              "        vertical-align: middle;\n",
              "    }\n",
              "\n",
              "    .dataframe tbody tr th {\n",
              "        vertical-align: top;\n",
              "    }\n",
              "\n",
              "    .dataframe thead th {\n",
              "        text-align: right;\n",
              "    }\n",
              "</style>\n",
              "<table border=\"1\" class=\"dataframe\">\n",
              "  <thead>\n",
              "    <tr style=\"text-align: right;\">\n",
              "      <th></th>\n",
              "      <th>0</th>\n",
              "      <th>1</th>\n",
              "      <th>2</th>\n",
              "      <th>3</th>\n",
              "      <th>4</th>\n",
              "      <th>5</th>\n",
              "      <th>6</th>\n",
              "      <th>7</th>\n",
              "      <th>8</th>\n",
              "      <th>9</th>\n",
              "      <th>10</th>\n",
              "      <th>11</th>\n",
              "      <th>12</th>\n",
              "      <th>13</th>\n",
              "      <th>14</th>\n",
              "      <th>15</th>\n",
              "      <th>16</th>\n",
              "      <th>17</th>\n",
              "      <th>18</th>\n",
              "      <th>19</th>\n",
              "      <th>20</th>\n",
              "      <th>21</th>\n",
              "      <th>22</th>\n",
              "      <th>23</th>\n",
              "      <th>24</th>\n",
              "      <th>25</th>\n",
              "      <th>26</th>\n",
              "      <th>27</th>\n",
              "      <th>28</th>\n",
              "      <th>29</th>\n",
              "      <th>30</th>\n",
              "      <th>31</th>\n",
              "      <th>32</th>\n",
              "      <th>33</th>\n",
              "      <th>34</th>\n",
              "      <th>35</th>\n",
              "      <th>36</th>\n",
              "      <th>37</th>\n",
              "      <th>38</th>\n",
              "      <th>39</th>\n",
              "      <th>...</th>\n",
              "      <th>60</th>\n",
              "      <th>61</th>\n",
              "      <th>62</th>\n",
              "      <th>63</th>\n",
              "      <th>64</th>\n",
              "      <th>65</th>\n",
              "      <th>66</th>\n",
              "      <th>67</th>\n",
              "      <th>68</th>\n",
              "      <th>69</th>\n",
              "      <th>70</th>\n",
              "      <th>71</th>\n",
              "      <th>72</th>\n",
              "      <th>73</th>\n",
              "      <th>74</th>\n",
              "      <th>75</th>\n",
              "      <th>76</th>\n",
              "      <th>77</th>\n",
              "      <th>78</th>\n",
              "      <th>79</th>\n",
              "      <th>80</th>\n",
              "      <th>81</th>\n",
              "      <th>82</th>\n",
              "      <th>83</th>\n",
              "      <th>84</th>\n",
              "      <th>85</th>\n",
              "      <th>86</th>\n",
              "      <th>87</th>\n",
              "      <th>88</th>\n",
              "      <th>89</th>\n",
              "      <th>90</th>\n",
              "      <th>91</th>\n",
              "      <th>92</th>\n",
              "      <th>93</th>\n",
              "      <th>94</th>\n",
              "      <th>95</th>\n",
              "      <th>96</th>\n",
              "      <th>97</th>\n",
              "      <th>98</th>\n",
              "      <th>99</th>\n",
              "    </tr>\n",
              "  </thead>\n",
              "  <tbody>\n",
              "    <tr>\n",
              "      <th>0</th>\n",
              "      <td>-7.82|-4.04</td>\n",
              "      <td>8.79|-4.41</td>\n",
              "      <td>-9.66|-5.74</td>\n",
              "      <td>-8.16|-9.51</td>\n",
              "      <td>-7.52|-2.98</td>\n",
              "      <td>-8.5|-1.61</td>\n",
              "      <td>-9.85|-4.62</td>\n",
              "      <td>4.17|-4.03</td>\n",
              "      <td>-8.98|-8.79</td>\n",
              "      <td>-4.76|-3.93</td>\n",
              "      <td>-8.5|-1.67</td>\n",
              "      <td>-6.75|-1.31</td>\n",
              "      <td>-7.18|-6.33</td>\n",
              "      <td>8.45|-1.4</td>\n",
              "      <td>-7.18|-6.45</td>\n",
              "      <td>-7.52|-9.59</td>\n",
              "      <td>-7.43|-4.46</td>\n",
              "      <td>-9.81|-4.88</td>\n",
              "      <td>-9.85|-3.25</td>\n",
              "      <td>-9.85|-5.61</td>\n",
              "      <td>-9.37|0.37</td>\n",
              "      <td>1.5|-4.23</td>\n",
              "      <td>-4.37|-5.69</td>\n",
              "      <td>-9.81|-10.49</td>\n",
              "      <td>-8.5|-4.52</td>\n",
              "      <td>1.12|-1.47</td>\n",
              "      <td>7.82|3.26</td>\n",
              "      <td>2.86|-1.11</td>\n",
              "      <td>9.13|3.49</td>\n",
              "      <td>-7.43|-7.57</td>\n",
              "      <td>2.14|1.06</td>\n",
              "      <td>-4.08|3.43</td>\n",
              "      <td>-9.08|-9.11</td>\n",
              "      <td>7.82|-2.56</td>\n",
              "      <td>5.05|3.02</td>\n",
              "      <td>4.95|3.55</td>\n",
              "      <td>-9.17|-8.95</td>\n",
              "      <td>-8.4|-3.12</td>\n",
              "      <td>-8.4|-2.26</td>\n",
              "      <td>-8.4|-3.28</td>\n",
              "      <td>...</td>\n",
              "      <td>8.59|1.38</td>\n",
              "      <td>3.59|2.47</td>\n",
              "      <td>-6.84|-4.71</td>\n",
              "      <td>-9.03|-8.17</td>\n",
              "      <td>2.82|1.15</td>\n",
              "      <td>-1.36|1.71</td>\n",
              "      <td>-9.08|-8.86</td>\n",
              "      <td>8.3|2.14</td>\n",
              "      <td>5.68|1.79</td>\n",
              "      <td>-4.81|-4.29</td>\n",
              "      <td>99.0|-6.48</td>\n",
              "      <td>99.0|0.99</td>\n",
              "      <td>99.0|-3.5</td>\n",
              "      <td>99.0|-9.19</td>\n",
              "      <td>99.0|-6.21</td>\n",
              "      <td>99.0|0.37</td>\n",
              "      <td>99.0|-4.04</td>\n",
              "      <td>-9.42|-2.33</td>\n",
              "      <td>99.0|-5.35</td>\n",
              "      <td>99.0|-2.66</td>\n",
              "      <td>99.0|-2.11</td>\n",
              "      <td>-7.72|-4.46</td>\n",
              "      <td>99.0|-0.62</td>\n",
              "      <td>99.0|-4.39</td>\n",
              "      <td>99.0|-4.43</td>\n",
              "      <td>99.0|-6.43</td>\n",
              "      <td>99.0|-1.37</td>\n",
              "      <td>99.0|-1.28</td>\n",
              "      <td>99.0|3.4</td>\n",
              "      <td>99.0|-4.76</td>\n",
              "      <td>2.82|-1.62</td>\n",
              "      <td>99.0|-2.89</td>\n",
              "      <td>99.0|0.46</td>\n",
              "      <td>99.0|-4.75</td>\n",
              "      <td>99.0|-3.76</td>\n",
              "      <td>99.0|-2.67</td>\n",
              "      <td>-5.63|-2.03</td>\n",
              "      <td>99.0|-2.68</td>\n",
              "      <td>99.0|-5.7</td>\n",
              "      <td>99.0|-2.97</td>\n",
              "    </tr>\n",
              "    <tr>\n",
              "      <th>1</th>\n",
              "      <td>4.08|4.4</td>\n",
              "      <td>-0.29|5.15</td>\n",
              "      <td>6.36|5.14</td>\n",
              "      <td>4.37|5.64</td>\n",
              "      <td>-2.38|4.04</td>\n",
              "      <td>-9.66|1.4</td>\n",
              "      <td>-0.73|2.92</td>\n",
              "      <td>-5.34|1.96</td>\n",
              "      <td>8.88|4.4</td>\n",
              "      <td>9.22|4.21</td>\n",
              "      <td>6.75|3.16</td>\n",
              "      <td>8.64|1.71</td>\n",
              "      <td>4.42|3.25</td>\n",
              "      <td>7.43|2.19</td>\n",
              "      <td>4.56|3.34</td>\n",
              "      <td>-0.97|2.87</td>\n",
              "      <td>4.66|2.92</td>\n",
              "      <td>-0.68|1.59</td>\n",
              "      <td>3.3|0.86</td>\n",
              "      <td>-1.21|0.73</td>\n",
              "      <td>0.87|2.94</td>\n",
              "      <td>8.64|4.24</td>\n",
              "      <td>8.35|2.94</td>\n",
              "      <td>9.17|5.21</td>\n",
              "      <td>0.05|3.94</td>\n",
              "      <td>7.57|2.52</td>\n",
              "      <td>4.71|0.95</td>\n",
              "      <td>0.87|-0.35</td>\n",
              "      <td>-0.39|1.23</td>\n",
              "      <td>6.99|3.34</td>\n",
              "      <td>6.5|1.74</td>\n",
              "      <td>-0.92|-0.25</td>\n",
              "      <td>7.14|4.74</td>\n",
              "      <td>9.03|2.97</td>\n",
              "      <td>-1.8|0.56</td>\n",
              "      <td>0.73|0.87</td>\n",
              "      <td>7.09|4.85</td>\n",
              "      <td>3.4|2.18</td>\n",
              "      <td>-0.87|2.57</td>\n",
              "      <td>7.91|3.04</td>\n",
              "      <td>...</td>\n",
              "      <td>-6.7|0.06</td>\n",
              "      <td>-3.35|-0.76</td>\n",
              "      <td>-9.03|0.81</td>\n",
              "      <td>4.47|4.49</td>\n",
              "      <td>4.08|2.21</td>\n",
              "      <td>-3.83|0.19</td>\n",
              "      <td>8.74|4.96</td>\n",
              "      <td>1.12|-1.35</td>\n",
              "      <td>0.78|1.05</td>\n",
              "      <td>7.52|2.28</td>\n",
              "      <td>-5.0|1.08</td>\n",
              "      <td>2.77|2.2</td>\n",
              "      <td>8.3|3.22</td>\n",
              "      <td>7.77|4.98</td>\n",
              "      <td>7.33|4.34</td>\n",
              "      <td>6.21|2.23</td>\n",
              "      <td>7.72|2.8</td>\n",
              "      <td>8.98|3.1</td>\n",
              "      <td>8.64|3.64</td>\n",
              "      <td>8.2|2.98</td>\n",
              "      <td>3.93|5.37</td>\n",
              "      <td>4.85|3.01</td>\n",
              "      <td>4.85|3.52</td>\n",
              "      <td>6.07|2.06</td>\n",
              "      <td>8.98|4.33</td>\n",
              "      <td>4.51|4.49</td>\n",
              "      <td>-0.05|3.12</td>\n",
              "      <td>3.69|2.55</td>\n",
              "      <td>4.56|-0.05</td>\n",
              "      <td>0.58|2.15</td>\n",
              "      <td>2.82|3.09</td>\n",
              "      <td>-4.95|2.02</td>\n",
              "      <td>-0.29|1.1</td>\n",
              "      <td>7.86|3.63</td>\n",
              "      <td>-0.19|2.43</td>\n",
              "      <td>-2.14|2.15</td>\n",
              "      <td>3.06|1.99</td>\n",
              "      <td>0.34|3.72</td>\n",
              "      <td>-4.32|2.31</td>\n",
              "      <td>1.07|4.63</td>\n",
              "    </tr>\n",
              "    <tr>\n",
              "      <th>2</th>\n",
              "      <td>99.0|6.15</td>\n",
              "      <td>99.0|5.82</td>\n",
              "      <td>99.0|6.36</td>\n",
              "      <td>99.0|5.82</td>\n",
              "      <td>9.03|3.95</td>\n",
              "      <td>9.27|8.88</td>\n",
              "      <td>9.03|4.63</td>\n",
              "      <td>9.27|3.12</td>\n",
              "      <td>99.0|7.34</td>\n",
              "      <td>99.0|6.57</td>\n",
              "      <td>7.33|7.78</td>\n",
              "      <td>7.57|8.98</td>\n",
              "      <td>9.37|2.08</td>\n",
              "      <td>6.17|8.68</td>\n",
              "      <td>-6.36|1.36</td>\n",
              "      <td>-6.89|1.78</td>\n",
              "      <td>-7.86|2.29</td>\n",
              "      <td>9.03|4.58</td>\n",
              "      <td>9.03|6.36</td>\n",
              "      <td>9.03|6.46</td>\n",
              "      <td>7.28|7.43</td>\n",
              "      <td>99.0|7.67</td>\n",
              "      <td>8.25|7.76</td>\n",
              "      <td>99.0|5.7</td>\n",
              "      <td>99.0|7.4</td>\n",
              "      <td>7.48|8.05</td>\n",
              "      <td>7.28|7.43</td>\n",
              "      <td>7.28|9.53</td>\n",
              "      <td>8.93|6.92</td>\n",
              "      <td>99.0|8.26</td>\n",
              "      <td>6.17|7.71</td>\n",
              "      <td>7.28|8.29</td>\n",
              "      <td>99.0|6.5</td>\n",
              "      <td>99.0|7.55</td>\n",
              "      <td>8.98|8.07</td>\n",
              "      <td>7.33|7.1</td>\n",
              "      <td>99.0|5.26</td>\n",
              "      <td>6.17|8.52</td>\n",
              "      <td>9.08|8.06</td>\n",
              "      <td>7.33|8.11</td>\n",
              "      <td>...</td>\n",
              "      <td>6.46|9.13</td>\n",
              "      <td>7.28|9.34</td>\n",
              "      <td>99.0|8.99</td>\n",
              "      <td>99.0|6.48</td>\n",
              "      <td>7.04|7.31</td>\n",
              "      <td>7.28|8.51</td>\n",
              "      <td>99.0|6.34</td>\n",
              "      <td>7.28|9.26</td>\n",
              "      <td>8.25|8.16</td>\n",
              "      <td>99.0|8.23</td>\n",
              "      <td>99.0|6.6</td>\n",
              "      <td>99.0|6.98</td>\n",
              "      <td>99.0|6.86</td>\n",
              "      <td>99.0|4.66</td>\n",
              "      <td>99.0|4.82</td>\n",
              "      <td>8.93|6.48</td>\n",
              "      <td>99.0|6.4</td>\n",
              "      <td>99.0|6.98</td>\n",
              "      <td>99.0|6.19</td>\n",
              "      <td>9.08|7.19</td>\n",
              "      <td>99.0|5.49</td>\n",
              "      <td>99.0|6.75</td>\n",
              "      <td>99.0|6.13</td>\n",
              "      <td>99.0|7.45</td>\n",
              "      <td>99.0|6.63</td>\n",
              "      <td>99.0|5.18</td>\n",
              "      <td>99.0|6.11</td>\n",
              "      <td>99.0|6.64</td>\n",
              "      <td>99.0|7.42</td>\n",
              "      <td>9.03|7.43</td>\n",
              "      <td>99.0|6.13</td>\n",
              "      <td>99.0|7.07</td>\n",
              "      <td>99.0|7.46</td>\n",
              "      <td>9.08|6.4</td>\n",
              "      <td>99.0|6.57</td>\n",
              "      <td>99.0|6.97</td>\n",
              "      <td>99.0|6.8</td>\n",
              "      <td>99.0|5.82</td>\n",
              "      <td>99.0|6.82</td>\n",
              "      <td>99.0|6.6</td>\n",
              "    </tr>\n",
              "    <tr>\n",
              "      <th>3</th>\n",
              "      <td>99.0|-0.74</td>\n",
              "      <td>8.35|3.32</td>\n",
              "      <td>99.0|0.67</td>\n",
              "      <td>99.0|1.62</td>\n",
              "      <td>1.8|1.45</td>\n",
              "      <td>8.16|4.16</td>\n",
              "      <td>-2.82|-0.45</td>\n",
              "      <td>6.21|-1.93</td>\n",
              "      <td>99.0|-2.3</td>\n",
              "      <td>1.84|-1.33</td>\n",
              "      <td>7.33|3.71</td>\n",
              "      <td>6.6|5.49</td>\n",
              "      <td>6.31|-0.37</td>\n",
              "      <td>8.11|6.67</td>\n",
              "      <td>-7.23|-3.36</td>\n",
              "      <td>-6.65|-5.1</td>\n",
              "      <td>1.17|2.24</td>\n",
              "      <td>-6.6|-3.34</td>\n",
              "      <td>-3.64|-0.25</td>\n",
              "      <td>-2.09|0.19</td>\n",
              "      <td>5.34|6.6</td>\n",
              "      <td>99.0|3.3</td>\n",
              "      <td>99.0|-0.58</td>\n",
              "      <td>99.0|-1.74</td>\n",
              "      <td>99.0|3.85</td>\n",
              "      <td>2.91|6.03</td>\n",
              "      <td>3.93|5.0</td>\n",
              "      <td>6.75|1.82</td>\n",
              "      <td>6.6|5.55</td>\n",
              "      <td>99.0|1.2</td>\n",
              "      <td>6.65|6.12</td>\n",
              "      <td>-6.12|3.09</td>\n",
              "      <td>99.0|0.54</td>\n",
              "      <td>7.57|5.47</td>\n",
              "      <td>6.21|4.35</td>\n",
              "      <td>6.65|3.7</td>\n",
              "      <td>99.0|-2.61</td>\n",
              "      <td>-8.3|0.47</td>\n",
              "      <td>7.18|5.72</td>\n",
              "      <td>2.82|3.29</td>\n",
              "      <td>...</td>\n",
              "      <td>0.0|5.27</td>\n",
              "      <td>-3.69|2.33</td>\n",
              "      <td>99.0|-0.24</td>\n",
              "      <td>99.0|-1.73</td>\n",
              "      <td>7.82|6.52</td>\n",
              "      <td>0.24|3.62</td>\n",
              "      <td>99.0|-1.66</td>\n",
              "      <td>7.28|2.93</td>\n",
              "      <td>-2.33|4.49</td>\n",
              "      <td>99.0|2.24</td>\n",
              "      <td>99.0|-1.14</td>\n",
              "      <td>99.0|3.15</td>\n",
              "      <td>99.0|3.22</td>\n",
              "      <td>99.0|-1.26</td>\n",
              "      <td>99.0|0.86</td>\n",
              "      <td>99.0|2.35</td>\n",
              "      <td>99.0|0.43</td>\n",
              "      <td>99.0|1.84</td>\n",
              "      <td>99.0|1.55</td>\n",
              "      <td>99.0|4.6</td>\n",
              "      <td>99.0|2.27</td>\n",
              "      <td>99.0|-1.81</td>\n",
              "      <td>99.0|3.64</td>\n",
              "      <td>99.0|-1.06</td>\n",
              "      <td>0.63|2.53</td>\n",
              "      <td>99.0|-4.99</td>\n",
              "      <td>99.0|1.09</td>\n",
              "      <td>-2.33|-1.12</td>\n",
              "      <td>99.0|0.98</td>\n",
              "      <td>99.0|-1.73</td>\n",
              "      <td>99.0|-1.94</td>\n",
              "      <td>99.0|-0.2</td>\n",
              "      <td>99.0|0.93</td>\n",
              "      <td>0.53|-3.76</td>\n",
              "      <td>99.0|-2.1</td>\n",
              "      <td>99.0|-1.84</td>\n",
              "      <td>99.0|-1.29</td>\n",
              "      <td>99.0|4.81</td>\n",
              "      <td>99.0|-0.95</td>\n",
              "      <td>99.0|5.5</td>\n",
              "    </tr>\n",
              "    <tr>\n",
              "      <th>4</th>\n",
              "      <td>8.5|2.37</td>\n",
              "      <td>4.61|3.06</td>\n",
              "      <td>-4.17|2.74</td>\n",
              "      <td>-5.39|1.99</td>\n",
              "      <td>1.36|2.81</td>\n",
              "      <td>1.6|5.16</td>\n",
              "      <td>7.04|0.73</td>\n",
              "      <td>4.61|-0.67</td>\n",
              "      <td>-0.44|1.04</td>\n",
              "      <td>5.73|2.41</td>\n",
              "      <td>8.25|4.88</td>\n",
              "      <td>6.84|5.22</td>\n",
              "      <td>-3.93|-1.21</td>\n",
              "      <td>7.23|5.65</td>\n",
              "      <td>-2.33|-2.15</td>\n",
              "      <td>-9.66|-3.26</td>\n",
              "      <td>2.72|0.99</td>\n",
              "      <td>-1.36|-0.59</td>\n",
              "      <td>2.57|2.01</td>\n",
              "      <td>4.51|1.16</td>\n",
              "      <td>8.2|6.31</td>\n",
              "      <td>6.12|3.96</td>\n",
              "      <td>8.3|2.12</td>\n",
              "      <td>-1.26|0.31</td>\n",
              "      <td>7.77|3.7</td>\n",
              "      <td>1.89|5.27</td>\n",
              "      <td>-1.17|6.16</td>\n",
              "      <td>5.68|4.11</td>\n",
              "      <td>8.45|5.54</td>\n",
              "      <td>4.61|2.68</td>\n",
              "      <td>8.06|5.76</td>\n",
              "      <td>-9.47|5.6</td>\n",
              "      <td>7.28|1.38</td>\n",
              "      <td>5.68|4.79</td>\n",
              "      <td>2.48|5.55</td>\n",
              "      <td>3.2|5.49</td>\n",
              "      <td>-1.26|-0.12</td>\n",
              "      <td>6.8|2.94</td>\n",
              "      <td>4.51|5.28</td>\n",
              "      <td>2.48|4.05</td>\n",
              "      <td>...</td>\n",
              "      <td>7.38|5.61</td>\n",
              "      <td>6.17|5.29</td>\n",
              "      <td>4.71|2.26</td>\n",
              "      <td>-2.28|0.79</td>\n",
              "      <td>7.38|6.16</td>\n",
              "      <td>4.56|5.2</td>\n",
              "      <td>7.14|1.41</td>\n",
              "      <td>4.22|5.01</td>\n",
              "      <td>3.01|5.54</td>\n",
              "      <td>3.83|3.8</td>\n",
              "      <td>99.0|1.39</td>\n",
              "      <td>99.0|6.44</td>\n",
              "      <td>99.0|5.64</td>\n",
              "      <td>99.0|1.63</td>\n",
              "      <td>99.0|3.46</td>\n",
              "      <td>99.0|5.92</td>\n",
              "      <td>4.13|4.47</td>\n",
              "      <td>99.0|5.8</td>\n",
              "      <td>99.0|4.47</td>\n",
              "      <td>99.0|6.14</td>\n",
              "      <td>5.24|5.76</td>\n",
              "      <td>5.92|3.5</td>\n",
              "      <td>0.87|6.34</td>\n",
              "      <td>7.28|3.31</td>\n",
              "      <td>3.93|4.97</td>\n",
              "      <td>-0.63|1.75</td>\n",
              "      <td>6.31|4.93</td>\n",
              "      <td>4.71|4.31</td>\n",
              "      <td>2.82|5.77</td>\n",
              "      <td>2.96|3.19</td>\n",
              "      <td>5.19|4.25</td>\n",
              "      <td>5.58|4.09</td>\n",
              "      <td>4.27|5.1</td>\n",
              "      <td>5.19|2.82</td>\n",
              "      <td>5.73|2.83</td>\n",
              "      <td>1.55|3.58</td>\n",
              "      <td>3.11|3.72</td>\n",
              "      <td>6.55|5.26</td>\n",
              "      <td>1.8|2.55</td>\n",
              "      <td>1.6|5.86</td>\n",
              "    </tr>\n",
              "  </tbody>\n",
              "</table>\n",
              "<p>5 rows × 100 columns</p>\n",
              "</div>"
            ],
            "text/plain": [
              "            0           1            2   ...          97          98          99\n",
              "0  -7.82|-4.04  8.79|-4.41  -9.66|-5.74  ...  99.0|-2.68   99.0|-5.7  99.0|-2.97\n",
              "1     4.08|4.4  -0.29|5.15    6.36|5.14  ...   0.34|3.72  -4.32|2.31   1.07|4.63\n",
              "2    99.0|6.15   99.0|5.82    99.0|6.36  ...   99.0|5.82   99.0|6.82    99.0|6.6\n",
              "3   99.0|-0.74   8.35|3.32    99.0|0.67  ...   99.0|4.81  99.0|-0.95    99.0|5.5\n",
              "4     8.5|2.37   4.61|3.06   -4.17|2.74  ...   6.55|5.26    1.8|2.55    1.6|5.86\n",
              "\n",
              "[5 rows x 100 columns]"
            ]
          },
          "metadata": {
            "tags": []
          },
          "execution_count": 127
        }
      ]
    },
    {
      "cell_type": "markdown",
      "metadata": {
        "id": "TFoMDpqsm5mO",
        "colab_type": "text"
      },
      "source": [
        "#Finding best and worst rated jokes"
      ]
    },
    {
      "cell_type": "code",
      "metadata": {
        "id": "ElwovcKZmurX",
        "colab_type": "code",
        "colab": {
          "base_uri": "https://localhost:8080/",
          "height": 252
        },
        "outputId": "588124f7-c5a0-4278-dded-f80331b471aa"
      },
      "source": [
        "#Taking mean of all the ratings for each joke to determine best to worst jokes\n",
        "joke_rat=np.empty((data.shape[1],2), dtype=object)\n",
        "for i in range (data.shape[1]):\n",
        "  rat=[]\n",
        "  for j in range (data.shape[0]):\n",
        "    if (Actual_data[j][i]!=99):\n",
        "      rat.append(Actual_data[j][i])\n",
        "  joke_rat[i,0]=\"Joke:\"+str(i)\n",
        "  joke_rat[i,1]=np.mean(np.array(rat))\n",
        "\n",
        "jk_ind=np.argsort(joke_rat[:,1])\n",
        "jk_ind=jk_ind[::-1]\n",
        "joke_rat=joke_rat[jk_ind,:]\n",
        "df1 = pd.DataFrame(data=joke_rat)\n",
        "print(df1)"
      ],
      "execution_count": 128,
      "outputs": [
        {
          "output_type": "stream",
          "text": [
            "          0        1\n",
            "0   Joke:49  3.66508\n",
            "1   Joke:88  3.57472\n",
            "2   Joke:35   3.3125\n",
            "3   Joke:26  3.18982\n",
            "4   Joke:31  3.15599\n",
            "..      ...      ...\n",
            "95  Joke:12 -1.76288\n",
            "96  Joke:56 -1.99066\n",
            "97  Joke:43 -2.11189\n",
            "98  Joke:15 -3.10482\n",
            "99  Joke:57 -3.83388\n",
            "\n",
            "[100 rows x 2 columns]\n"
          ],
          "name": "stdout"
        }
      ]
    }
  ]
}