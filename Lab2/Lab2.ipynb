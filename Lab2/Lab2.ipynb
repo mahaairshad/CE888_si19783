{
  "nbformat": 4,
  "nbformat_minor": 0,
  "metadata": {
    "kernelspec": {
      "display_name": "Python 3",
      "language": "python",
      "name": "python3"
    },
    "language_info": {
      "codemirror_mode": {
        "name": "ipython",
        "version": 2
      },
      "file_extension": ".py",
      "mimetype": "text/x-python",
      "name": "python",
      "nbconvert_exporter": "python",
      "pygments_lexer": "ipython2",
      "version": "2.7.6"
    },
    "pycharm": {
      "stem_cell": {
        "cell_type": "raw",
        "source": [],
        "metadata": {
          "collapsed": false
        }
      }
    },
    "colab": {
      "name": "Bootstrap.ipynb",
      "provenance": [],
      "collapsed_sections": [],
      "include_colab_link": true
    }
  },
  "cells": [
    {
      "cell_type": "markdown",
      "metadata": {
        "id": "view-in-github",
        "colab_type": "text"
      },
      "source": [
        "<a href=\"https://colab.research.google.com/github/mahaairshad/CE888_si19783/blob/master/Lab2/Lab2.ipynb\" target=\"_parent\"><img src=\"https://colab.research.google.com/assets/colab-badge.svg\" alt=\"Open In Colab\"/></a>"
      ]
    },
    {
      "cell_type": "markdown",
      "metadata": {
        "id": "nCi_99yMYIb1",
        "colab_type": "text"
      },
      "source": [
        "Lab2: This code contains bootstrap function following the bootstrap algorithm "
      ]
    },
    {
      "cell_type": "code",
      "metadata": {
        "pycharm": {
          "name": "#%%# Imports\n"
        },
        "id": "LY5zujI2YC37",
        "colab_type": "code",
        "colab": {}
      },
      "source": [
        "import matplotlib\n",
        "import pandas as pd\n",
        "import seaborn as sns\n",
        "import numpy as np\n",
        "import random\n",
        "import matplotlib.pyplot as plt"
      ],
      "execution_count": 0,
      "outputs": []
    },
    {
      "cell_type": "markdown",
      "metadata": {
        "id": "0bl0Rw9ifWzZ",
        "colab_type": "text"
      },
      "source": [
        "(1) The bootstrap:"
      ]
    },
    {
      "cell_type": "code",
      "metadata": {
        "id": "Eqkwj4SMY38t",
        "colab_type": "code",
        "outputId": "eade19e0-f05f-4312-ce36-4464d55eb765",
        "colab": {
          "base_uri": "https://localhost:8080/",
          "height": 34
        }
      },
      "source": [
        "# Load the data\n",
        "df = pd.read_csv('https://raw.githubusercontent.com/albanda/CE888/master/lab2%20-%20bootstrap/customers.csv',sep=',')\n",
        "data = df.values.T[1]\n",
        "print(data)"
      ],
      "execution_count": 0,
      "outputs": [
        {
          "output_type": "stream",
          "text": [
            "[ 2.  8. 20. 13.  5.  9. 10.  8. 22. 10.  2.  4.  7.  9.]\n"
          ],
          "name": "stdout"
        }
      ]
    },
    {
      "cell_type": "code",
      "metadata": {
        "id": "jdWsePnF2Xd3",
        "colab_type": "code",
        "outputId": "e056c7b5-f90e-426b-e2dd-0dfc7c76b0b7",
        "colab": {
          "base_uri": "https://localhost:8080/",
          "height": 386
        }
      },
      "source": [
        "sns.lmplot(df.columns[0], df.columns[1],data=df, fit_reg=False)"
      ],
      "execution_count": 0,
      "outputs": [
        {
          "output_type": "execute_result",
          "data": {
            "text/plain": [
              "<seaborn.axisgrid.FacetGrid at 0x7f5d2da80be0>"
            ]
          },
          "metadata": {
            "tags": []
          },
          "execution_count": 3
        },
        {
          "output_type": "display_data",
          "data": {
            "image/png": "[encoded data removed]",
            "text/plain": [
              "<Figure size 360x360 with 1 Axes>"
            ]
          },
          "metadata": {
            "tags": []
          }
        }
      ]
    },
    {
      "cell_type": "code",
      "metadata": {
        "id": "Kj49qjIt5MkN",
        "colab_type": "code",
        "outputId": "ceb59802-b75b-4cc1-dd8d-652c84ce902d",
        "colab": {
          "base_uri": "https://localhost:8080/",
          "height": 34
        }
      },
      "source": [
        "bootstraps=4\n",
        "statistics=[]\n",
        "for i in range(bootstraps):\n",
        " sample = np.random.choice(data,size=len(data),replace='TRUE')\n",
        " #stat = np.mean(sample)\n",
        " statistics.append(sample)\n",
        "\n",
        "#np.mean(statistics)\n",
        "sample=np.sort(sample)\n",
        "print(sample)"
      ],
      "execution_count": 0,
      "outputs": [
        {
          "output_type": "stream",
          "text": [
            "[ 2.  2.  2.  4.  4.  7.  8.  8.  9. 10. 10. 13. 20. 20.]\n"
          ],
          "name": "stdout"
        }
      ]
    },
    {
      "cell_type": "code",
      "metadata": {
        "id": "HTNd7RDYOP-u",
        "colab_type": "code",
        "outputId": "7d428984-fa9c-4588-c48f-d9ce1297e300",
        "colab": {
          "base_uri": "https://localhost:8080/",
          "height": 101
        }
      },
      "source": [
        "print(statistics)"
      ],
      "execution_count": 0,
      "outputs": [
        {
          "output_type": "stream",
          "text": [
            "[array([ 7., 20.,  7.,  8.,  2., 10.,  2., 10., 22.,  4.,  4.,  5.,  8.,\n",
            "       20.]), array([20.,  8., 20.,  4., 10.,  9.,  9.,  9.,  5.,  7., 13.,  8., 13.,\n",
            "       20.]), array([10., 13., 10., 13., 10., 20., 22.,  8.,  8., 10.,  2., 10., 10.,\n",
            "        9.]), array([ 8.,  8.,  9., 10.,  2.,  4., 20., 13.,  2., 20., 10.,  2.,  7.,\n",
            "        4.])]\n"
          ],
          "name": "stdout"
        }
      ]
    },
    {
      "cell_type": "code",
      "metadata": {
        "pycharm": {
          "name": "#%%\n"
        },
        "id": "Gxvc_bScYC4H",
        "colab_type": "code",
        "colab": {}
      },
      "source": [
        "# Checking the notes from the lecture, create here your own bootstrap function:\n",
        "# 1. Create an array of samples of shape (n_iterations, sample_size)\n",
        "# 2. Calculate and save the mean of the array (this is \"data_mean\" that is returned by the function)\n",
        "# 3. In each iteration:\n",
        "# 3.1 Get the data corresponding to that iteration (new_samples[iteration, :])\n",
        "# 3.2 Calculate the mean of the iteration data and store it\n",
        "# (At this point you should have an array of n_iterations values)\n",
        "# 4. Calculate the lower and upper bounds for a 95% CI (hint: check the percentile function on Numpy)\n",
        "# 5. Return data_mean, and the lower and upper bounds of your interval\n",
        "def boostrap_mean(sample, sample_size, n_iterations):\n",
        "\t# <---INSERT YOUR CODE HERE--->\n",
        "\tstatistics=[]\n",
        "\tmean_samples=[]\n",
        "\tfor i in range(n_iterations):\n",
        "\t\tsample = np.random.choice(data,size=sample_size,replace='TRUE')\n",
        "\t\tstatistics.append(sample)\n",
        "\t\tmean_sample = np.mean(sample)\n",
        "\t\tmean_samples.append(mean_sample)\n",
        "\tdata_mean=np.mean(statistics)\n",
        "\tmean_samples=np.sort(mean_samples)\n",
        "\tlower=np.percentile(mean_samples,2.5)\n",
        "\tupper=np.percentile(mean_samples,97.5)\n",
        "\treturn data_mean, lower, upper"
      ],
      "execution_count": 0,
      "outputs": []
    },
    {
      "cell_type": "code",
      "metadata": {
        "pycharm": {
          "name": "#%%\n"
        },
        "id": "AN7sEOcMYC4P",
        "colab_type": "code",
        "outputId": "864e1f3f-0662-45b5-f5a8-c7033813790e",
        "colab": {
          "base_uri": "https://localhost:8080/",
          "height": 385
        }
      },
      "source": [
        "# Call your bootstrap function and plot the results\n",
        "\n",
        "boots = []\n",
        "for i in range(100, 100000, 1000):\n",
        "    boot = boostrap_mean(data, data.shape[0], i)\n",
        "    boots.append([i, boot[0], \"mean\"])\n",
        "    boots.append([i, boot[1], \"lower\"])\n",
        "    boots.append([i, boot[2], \"upper\"])\n",
        "\n",
        "df_boot = pd.DataFrame(boots, columns=['Boostrap Iterations', 'Mean', \"Value\"])\n",
        "sns_plot = sns.lmplot(df_boot.columns[0], df_boot.columns[1], data=df_boot, fit_reg=False, hue=\"Value\")\n",
        "\n",
        "sns_plot.axes[0, 0].set_ylim(0,)\n",
        "sns_plot.axes[0, 0].set_xlim(0, 100000)\n",
        "\n",
        "#sns_plot.savefig(\"bootstrap_confidence.png\", bbox_inches='tight')\n",
        "#sns_plot.savefig(\"bootstrap_confidence.pdf\", bbox_inches='tight')\n",
        "\n"
      ],
      "execution_count": 0,
      "outputs": [
        {
          "output_type": "execute_result",
          "data": {
            "text/plain": [
              "(0, 100000)"
            ]
          },
          "metadata": {
            "tags": []
          },
          "execution_count": 7
        },
        {
          "output_type": "display_data",
          "data": {
            "image/png": "[encoded data removed]",
            "text/plain": [
              "<Figure size 425.125x360 with 1 Axes>"
            ]
          },
          "metadata": {
            "tags": []
          }
        }
      ]
    },
    {
      "cell_type": "markdown",
      "metadata": {
        "collapsed": false,
        "id": "MjtP4e2_YC4V",
        "colab_type": "text"
      },
      "source": [
        "\n",
        "Now, modify the bootstrap function so that you can pass your desired confidence interval as a parameter.\n",
        "\n"
      ]
    },
    {
      "cell_type": "code",
      "metadata": {
        "id": "3K9j0FuGYhHs",
        "colab_type": "code",
        "colab": {}
      },
      "source": [
        "def boostrap_mean_ci(d_sample, sample_size, iterations, ci):\n",
        "\t# <---INSERT YOUR CODE HERE--->\n",
        "\tstatistics=[]\n",
        "\tmean_samples=[]\n",
        "\tfor i in range(iterations):\n",
        "\t\tsample = np.random.choice(d_sample,size=sample_size,replace='TRUE')\n",
        "\t\tstatistics.append(sample)\n",
        "\t\tmean_sample = np.nanmean(sample)\n",
        "\t\tmean_samples.append(mean_sample)\n",
        "\tdata_mean=np.nanmean(statistics)\n",
        "\tmean_samples=np.sort(mean_samples)\n",
        "\tl=(100-ci)/2\n",
        "\tu=(100-l)\n",
        "\tlower=np.percentile(mean_samples,l)\n",
        "\tupper=np.percentile(mean_samples,u)\n",
        "\treturn data_mean, lower, upper"
      ],
      "execution_count": 0,
      "outputs": []
    },
    {
      "cell_type": "code",
      "metadata": {
        "id": "uDnjq08GYl-C",
        "colab_type": "code",
        "outputId": "96a35650-5c86-4f55-d146-3c6a614a59af",
        "colab": {
          "base_uri": "https://localhost:8080/",
          "height": 369
        }
      },
      "source": [
        "\n",
        "boots = []\n",
        "for i in range(100, 100000, 1000):\n",
        "    boot = boostrap_mean_ci(data, data.shape[0], i, 80)\n",
        "    boots.append([i, boot[0], \"mean\"])\n",
        "    boots.append([i, boot[1], \"lower\"])\n",
        "    boots.append([i, boot[2], \"upper\"])\n",
        "\n",
        "df_boot = pd.DataFrame(boots, columns=['Boostrap Iterations', 'Mean', \"Value\"])\n",
        "sns_plot = sns.lmplot(df_boot.columns[0], df_boot.columns[1], data=df_boot, fit_reg=False, hue=\"Value\")\n",
        "\n",
        "sns_plot.axes[0, 0].set_ylim(0,)\n",
        "sns_plot.axes[0, 0].set_xlim(0, 100000)\n",
        "\n",
        "sns_plot.savefig(\"bootstrap_confidence_80.png\", bbox_inches='tight')\n",
        "sns_plot.savefig(\"bootstrap_confidence_80.pdf\", bbox_inches='tight')\n"
      ],
      "execution_count": 0,
      "outputs": [
        {
          "output_type": "display_data",
          "data": {
            "image/png": "[encoded data removed]",
            "text/plain": [
              "<Figure size 425.125x360 with 1 Axes>"
            ]
          },
          "metadata": {
            "tags": []
          }
        }
      ]
    },
    {
      "cell_type": "markdown",
      "metadata": {
        "id": "vzqp9lVwfl40",
        "colab_type": "text"
      },
      "source": [
        "(2) Data visualisation:"
      ]
    },
    {
      "cell_type": "markdown",
      "metadata": {
        "id": "qjNgXW6wdd7r",
        "colab_type": "text"
      },
      "source": [
        "###Vehicles dataset\n"
      ]
    },
    {
      "cell_type": "code",
      "metadata": {
        "id": "avWv4ipFdpka",
        "colab_type": "code",
        "outputId": "3048a5fe-6ea1-4fa3-b6f8-055372640bf9",
        "colab": {
          "base_uri": "https://localhost:8080/",
          "height": 34
        }
      },
      "source": [
        "# Load and visualise the vehicles dataset\n",
        "# <---INSERT YOUR CODE HERE--->\n",
        "# Note: you can add more cells as needed to organise your code and your plots\n",
        "# Load the data\n",
        "df = pd.read_csv('https://raw.githubusercontent.com/albanda/CE888/master/lab2%20-%20bootstrap/vehicles.csv',sep=',')\n",
        "cur_flt_data = df.values.T[0]\n",
        "new_flt_data = df.values.T[1]\n",
        "print(new_flt_data.shape)"
      ],
      "execution_count": 87,
      "outputs": [
        {
          "output_type": "stream",
          "text": [
            "(249,)\n"
          ],
          "name": "stdout"
        }
      ]
    },
    {
      "cell_type": "code",
      "metadata": {
        "id": "PzmqiyE1fT4c",
        "colab_type": "code",
        "colab": {}
      },
      "source": [
        "vrange=np.arange(1,250,1)"
      ],
      "execution_count": 0,
      "outputs": []
    },
    {
      "cell_type": "code",
      "metadata": {
        "id": "rbE1u9lsXyUn",
        "colab_type": "code",
        "outputId": "38c8b23b-7163-4468-9c6a-148e57c1ac00",
        "colab": {
          "base_uri": "https://localhost:8080/",
          "height": 366
        }
      },
      "source": [
        "fig=plt.figure()\n",
        "ax=fig.add_axes([0,0,1,1])\n",
        "ax.scatter(vrange, cur_flt_data, color='r')\n",
        "ax.scatter(vrange, new_flt_data, color='b')\n",
        "ax.set_xlabel('Vehicles')\n",
        "ax.set_ylabel('MPG')\n",
        "ax.set_title('Scatter plot')\n",
        "plt.show()"
      ],
      "execution_count": 89,
      "outputs": [
        {
          "output_type": "display_data",
          "data": {
            "image/png": "[encoded data removed]",
            "text/plain": [
              "<Figure size 432x288 with 1 Axes>"
            ]
          },
          "metadata": {
            "tags": []
          }
        }
      ]
    },
    {
      "cell_type": "code",
      "metadata": {
        "id": "NxvzG_-njDIb",
        "colab_type": "code",
        "outputId": "d453e264-1da0-46a8-d0e7-df6519ed44a1",
        "colab": {
          "base_uri": "https://localhost:8080/",
          "height": 282
        }
      },
      "source": [
        "plt.scatter(cur_flt_data, new_flt_data)"
      ],
      "execution_count": 90,
      "outputs": [
        {
          "output_type": "execute_result",
          "data": {
            "text/plain": [
              "<matplotlib.collections.PathCollection at 0x7f5cdf8aa320>"
            ]
          },
          "metadata": {
            "tags": []
          },
          "execution_count": 90
        },
        {
          "output_type": "display_data",
          "data": {
            "image/png": "[encoded data removed]",
            "text/plain": [
              "<Figure size 432x288 with 1 Axes>"
            ]
          },
          "metadata": {
            "tags": []
          }
        }
      ]
    },
    {
      "cell_type": "code",
      "metadata": {
        "id": "50RGAv2dYSb5",
        "colab_type": "code",
        "outputId": "0c83b583-afeb-4f5c-880d-b379f4a8b155",
        "colab": {
          "base_uri": "https://localhost:8080/",
          "height": 382
        }
      },
      "source": [
        "plt.subplot(2,1,1)\n",
        "plt.hist(cur_flt_data, color='r')\n",
        "plt.subplot(2,1,2)\n",
        "plt.hist(new_flt_data, color='b')"
      ],
      "execution_count": 91,
      "outputs": [
        {
          "output_type": "stream",
          "text": [
            "/usr/local/lib/python3.6/dist-packages/numpy/lib/histograms.py:839: RuntimeWarning: invalid value encountered in greater_equal\n",
            "  keep = (tmp_a >= first_edge)\n",
            "/usr/local/lib/python3.6/dist-packages/numpy/lib/histograms.py:840: RuntimeWarning: invalid value encountered in less_equal\n",
            "  keep &= (tmp_a <= last_edge)\n"
          ],
          "name": "stderr"
        },
        {
          "output_type": "execute_result",
          "data": {
            "text/plain": [
              "(array([ 5.,  5., 12.,  8., 20., 13., 11.,  3.,  0.,  2.]),\n",
              " array([18. , 20.9, 23.8, 26.7, 29.6, 32.5, 35.4, 38.3, 41.2, 44.1, 47. ]),\n",
              " <a list of 10 Patch objects>)"
            ]
          },
          "metadata": {
            "tags": []
          },
          "execution_count": 91
        },
        {
          "output_type": "display_data",
          "data": {
            "image/png": "[encoded data removed]",
            "text/plain": [
              "<Figure size 432x288 with 2 Axes>"
            ]
          },
          "metadata": {
            "tags": []
          }
        }
      ]
    },
    {
      "cell_type": "markdown",
      "metadata": {
        "id": "XW8UUlugfy70",
        "colab_type": "text"
      },
      "source": [
        "(3) Bootstrap on the vehicles dataset:"
      ]
    },
    {
      "cell_type": "code",
      "metadata": {
        "id": "mIGBdVnGYns_",
        "colab_type": "code",
        "colab": {}
      },
      "source": [
        "#removing null values\n",
        "new_flt_data = new_flt_data[~np.isnan(new_flt_data)]"
      ],
      "execution_count": 0,
      "outputs": []
    },
    {
      "cell_type": "code",
      "metadata": {
        "id": "PJZFX6EIoM2v",
        "colab_type": "code",
        "outputId": "b7cb0323-de3c-4b18-81f0-7ed51b82484e",
        "colab": {
          "base_uri": "https://localhost:8080/",
          "height": 34
        }
      },
      "source": [
        "cur_mean, cur_lo,cur_upp=boostrap_mean_ci(cur_flt_data, cur_flt_data.shape, 100, 95)\n",
        "cur_mean #mean of current fleet"
      ],
      "execution_count": 93,
      "outputs": [
        {
          "output_type": "execute_result",
          "data": {
            "text/plain": [
              "20.12586345381526"
            ]
          },
          "metadata": {
            "tags": []
          },
          "execution_count": 93
        }
      ]
    },
    {
      "cell_type": "code",
      "metadata": {
        "id": "if-RY4aTd4CZ",
        "colab_type": "code",
        "outputId": "4df0209e-ef46-46b3-a471-bc9382a32ecd",
        "colab": {
          "base_uri": "https://localhost:8080/",
          "height": 34
        }
      },
      "source": [
        "new_mean, new_lo,new_upp=boostrap_mean_ci(new_flt_data, new_flt_data.shape, 100, 95)\n",
        "new_mean #mean of new fleet"
      ],
      "execution_count": 94,
      "outputs": [
        {
          "output_type": "execute_result",
          "data": {
            "text/plain": [
              "30.52"
            ]
          },
          "metadata": {
            "tags": []
          },
          "execution_count": 94
        }
      ]
    },
    {
      "cell_type": "code",
      "metadata": {
        "id": "79PcgmODVUp_",
        "colab_type": "code",
        "colab": {}
      },
      "source": [
        "tobs=new_mean-cur_mean"
      ],
      "execution_count": 0,
      "outputs": []
    },
    {
      "cell_type": "code",
      "metadata": {
        "id": "p0UBvTgQVbWk",
        "colab_type": "code",
        "colab": {
          "base_uri": "https://localhost:8080/",
          "height": 34
        },
        "outputId": "7e7da205-a991-410c-e3c3-9e4957414f0d"
      },
      "source": [
        "tobs"
      ],
      "execution_count": 96,
      "outputs": [
        {
          "output_type": "execute_result",
          "data": {
            "text/plain": [
              "10.39413654618474"
            ]
          },
          "metadata": {
            "tags": []
          },
          "execution_count": 96
        }
      ]
    },
    {
      "cell_type": "code",
      "metadata": {
        "id": "R-ZHfod7FWCK",
        "colab_type": "code",
        "colab": {}
      },
      "source": [
        "# Comparing the two fleets by permuatation test.\n",
        "\n",
        "concat=np.concatenate((cur_flt_data,new_flt_data))"
      ],
      "execution_count": 0,
      "outputs": []
    },
    {
      "cell_type": "code",
      "metadata": {
        "id": "LwEstrzrZrk2",
        "colab_type": "code",
        "colab": {
          "base_uri": "https://localhost:8080/",
          "height": 34
        },
        "outputId": "8cb34668-3250-4805-fa77-2eedf91f6d4d"
      },
      "source": [
        "tot_perm=20000\n",
        "count_perm=0\n",
        "for i in range(tot_perm):\n",
        "  perm=np.random.permutation(concat)\n",
        "  pcur=perm[:int(len(perm)/2)]\n",
        "  pnew=perm[int(len(perm)/2):]\n",
        "  mean1=np.mean(pcur)\n",
        "  mean2=np.mean(pnew)\n",
        "  tperm=mean2-mean1\n",
        "  if (tperm>tobs):\n",
        "    count_perm=count_perm+1\n",
        "\n",
        "p_value=count_perm/tot_perm\n",
        "\n",
        "if p_value<0.05:\n",
        "  print(\"Null hypothesis rejected\")\n",
        "else:\n",
        "  print(\"Failed to reject the null hypothesis\")"
      ],
      "execution_count": 98,
      "outputs": [
        {
          "output_type": "stream",
          "text": [
            "Null hypothesis rejected\n"
          ],
          "name": "stdout"
        }
      ]
    }
  ]
}