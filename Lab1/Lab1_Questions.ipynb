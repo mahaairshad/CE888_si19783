{
  "nbformat": 4,
  "nbformat_minor": 0,
  "metadata": {
    "colab": {
      "name": "Lab1 Questions.ipynb",
      "provenance": [],
      "collapsed_sections": [],
      "authorship_tag": "ABX9TyMSmVlhV6k+VttLVcJcGTLJ",
      "include_colab_link": true
    },
    "kernelspec": {
      "name": "python3",
      "display_name": "Python 3"
    }
  },
  "cells": [
    {
      "cell_type": "markdown",
      "metadata": {
        "id": "view-in-github",
        "colab_type": "text"
      },
      "source": [
        "<a href=\"https://colab.research.google.com/github/mahaairshad/CE888_si19783/blob/master/Lab1/Lab1_Questions.ipynb\" target=\"_parent\"><img src=\"https://colab.research.google.com/assets/colab-badge.svg\" alt=\"Open In Colab\"/></a>"
      ]
    },
    {
      "cell_type": "markdown",
      "metadata": {
        "id": "IeETTSFfM57O",
        "colab_type": "text"
      },
      "source": [
        "###Lab TaskQuestions"
      ]
    },
    {
      "cell_type": "markdown",
      "metadata": {
        "id": "fPevpEaTNOK9",
        "colab_type": "text"
      },
      "source": [
        "####1. Create a (4 x 2) integer array and print it's attributes"
      ]
    },
    {
      "cell_type": "code",
      "metadata": {
        "id": "cPu2R-OiM_YO",
        "colab_type": "code",
        "outputId": "c1b8908b-feff-4134-85e8-b2aaeecd9a60",
        "colab": {
          "base_uri": "https://localhost:8080/",
          "height": 51
        }
      },
      "source": [
        "import numpy as np\n",
        "a = np.array([[ 6, 9, 2, 3],\n",
        "              [3,5,4,10]])\n",
        "print(a)"
      ],
      "execution_count": 0,
      "outputs": [
        {
          "output_type": "stream",
          "text": [
            "[[ 6  9  2  3]\n",
            " [ 3  5  4 10]]\n"
          ],
          "name": "stdout"
        }
      ]
    },
    {
      "cell_type": "markdown",
      "metadata": {
        "id": "_y_dpHz2Nk-u",
        "colab_type": "text"
      },
      "source": [
        "####2. Create an array of dimension (1,10) and sort it in ascending and descending order"
      ]
    },
    {
      "cell_type": "code",
      "metadata": {
        "id": "ylTQ6f5DNpuN",
        "colab_type": "code",
        "outputId": "7e456bfe-3541-4b9a-ca07-20f4f619691b",
        "colab": {
          "base_uri": "https://localhost:8080/",
          "height": 34
        }
      },
      "source": [
        "b=np.random.randint(1,10, 10)\n",
        "print(b)"
      ],
      "execution_count": 0,
      "outputs": [
        {
          "output_type": "stream",
          "text": [
            "[4 9 5 1 6 1 5 5 2 3]\n"
          ],
          "name": "stdout"
        }
      ]
    },
    {
      "cell_type": "code",
      "metadata": {
        "id": "usSeXPFBObMO",
        "colab_type": "code",
        "outputId": "2da09bfc-a191-489f-e5e0-699ba5683d3a",
        "colab": {
          "base_uri": "https://localhost:8080/",
          "height": 34
        }
      },
      "source": [
        "#ascending\n",
        "print(np.sort(b))"
      ],
      "execution_count": 0,
      "outputs": [
        {
          "output_type": "stream",
          "text": [
            "[1 1 2 3 4 5 5 5 6 9]\n"
          ],
          "name": "stdout"
        }
      ]
    },
    {
      "cell_type": "code",
      "metadata": {
        "id": "-sNpdnEtOlUB",
        "colab_type": "code",
        "outputId": "769aeb31-31ed-4ee2-d36c-a9eb79fb04d6",
        "colab": {
          "base_uri": "https://localhost:8080/",
          "height": 34
        }
      },
      "source": [
        "#descending\n",
        "print(-np.sort(-b))"
      ],
      "execution_count": 0,
      "outputs": [
        {
          "output_type": "stream",
          "text": [
            "[9 6 5 5 5 4 3 2 1 1]\n"
          ],
          "name": "stdout"
        }
      ]
    },
    {
      "cell_type": "markdown",
      "metadata": {
        "id": "Uu-QSZVEO5Oi",
        "colab_type": "text"
      },
      "source": [
        "####3. Convert an 1D array [1 2 3 4 5 6 7 8 9] to 2D array [[1 2 3], [4 5 6], [7 8 9]]"
      ]
    },
    {
      "cell_type": "code",
      "metadata": {
        "id": "WY2QPlSHO7zU",
        "colab_type": "code",
        "outputId": "e5f83959-5b5c-4df6-f4c9-8d37101b2938",
        "colab": {
          "base_uri": "https://localhost:8080/",
          "height": 34
        }
      },
      "source": [
        "c=np.array([1, 2, 3, 4, 5, 6, 7, 8, 9])\n",
        "print(c)"
      ],
      "execution_count": 0,
      "outputs": [
        {
          "output_type": "stream",
          "text": [
            "[1 2 3 4 5 6 7 8 9]\n"
          ],
          "name": "stdout"
        }
      ]
    },
    {
      "cell_type": "code",
      "metadata": {
        "id": "IqVe_wt_PeKX",
        "colab_type": "code",
        "outputId": "e1b53586-a58f-4ece-f3d7-6755583288fa",
        "colab": {
          "base_uri": "https://localhost:8080/",
          "height": 119
        }
      },
      "source": [
        "d=c[0:3]\n",
        "print(d)\n",
        "e=c[3:6]\n",
        "print(e)\n",
        "f=c[6:9]\n",
        "print(f)\n",
        "k=np.array([d,e,f])\n",
        "print (k)"
      ],
      "execution_count": 0,
      "outputs": [
        {
          "output_type": "stream",
          "text": [
            "[1 2 3]\n",
            "[4 5 6]\n",
            "[7 8 9]\n",
            "[[1 2 3]\n",
            " [4 5 6]\n",
            " [7 8 9]]\n"
          ],
          "name": "stdout"
        }
      ]
    },
    {
      "cell_type": "markdown",
      "metadata": {
        "id": "r6rlUHPnVRDW",
        "colab_type": "text"
      },
      "source": [
        "####4. Stack two arrays of any size horizontally and vertically"
      ]
    },
    {
      "cell_type": "code",
      "metadata": {
        "id": "P_pGMqcyVeAc",
        "colab_type": "code",
        "outputId": "300e5cd3-b6dc-405a-d3a0-e839bfb1ce58",
        "colab": {
          "base_uri": "https://localhost:8080/",
          "height": 102
        }
      },
      "source": [
        "#vertical\n",
        "print(np.stack((f,d), axis=-1))\n",
        "#horizontal\n",
        "print(np.stack((f,d)))"
      ],
      "execution_count": 0,
      "outputs": [
        {
          "output_type": "stream",
          "text": [
            "[[7 1]\n",
            " [8 2]\n",
            " [9 3]]\n",
            "[[7 8 9]\n",
            " [1 2 3]]\n"
          ],
          "name": "stdout"
        }
      ]
    },
    {
      "cell_type": "markdown",
      "metadata": {
        "id": "zlZjWht7WXVR",
        "colab_type": "text"
      },
      "source": [
        "####5. Create two array of same size and find commom elements"
      ]
    },
    {
      "cell_type": "code",
      "metadata": {
        "id": "NyopVcGCWsOh",
        "colab_type": "code",
        "outputId": "1a2c0261-fed5-44b0-8d84-a93a6885fd51",
        "colab": {
          "base_uri": "https://localhost:8080/",
          "height": 34
        }
      },
      "source": [
        "x=np.array([30, 22, 10, 13, 4])\n",
        "y=np.array([22, 2, 55, 10, 44])\n",
        "print(np.intersect1d(x, y))"
      ],
      "execution_count": 0,
      "outputs": [
        {
          "output_type": "stream",
          "text": [
            "[10 22]\n"
          ],
          "name": "stdout"
        }
      ]
    },
    {
      "cell_type": "markdown",
      "metadata": {
        "id": "5So3wCkFXhrf",
        "colab_type": "text"
      },
      "source": [
        "####6. Create a 2D array of 5 by 5 and find the min and max values from each row and each column"
      ]
    },
    {
      "cell_type": "code",
      "metadata": {
        "id": "yeRIsxlJXnsk",
        "colab_type": "code",
        "colab": {}
      },
      "source": [
        ""
      ],
      "execution_count": 0,
      "outputs": []
    },
    {
      "cell_type": "markdown",
      "metadata": {
        "id": "msG9nCS4XrhT",
        "colab_type": "text"
      },
      "source": [
        "####7. Create an array of size 100 and compute the mean, median, standard deviation."
      ]
    },
    {
      "cell_type": "code",
      "metadata": {
        "id": "MGJ-4K4SXvVs",
        "colab_type": "code",
        "colab": {}
      },
      "source": [
        ""
      ],
      "execution_count": 0,
      "outputs": []
    },
    {
      "cell_type": "markdown",
      "metadata": {
        "id": "hAS485X2XvuE",
        "colab_type": "text"
      },
      "source": [
        "####8. Normalize a 5x5 random matrix"
      ]
    },
    {
      "cell_type": "code",
      "metadata": {
        "id": "ENL6bbUyXyg7",
        "colab_type": "code",
        "colab": {}
      },
      "source": [
        ""
      ],
      "execution_count": 0,
      "outputs": []
    },
    {
      "cell_type": "markdown",
      "metadata": {
        "id": "_N80lM_6XzCU",
        "colab_type": "text"
      },
      "source": [
        "####9. Consider an array of dimension (4,4,3), how to mulitply it by an array with dimensions (4,4)?"
      ]
    },
    {
      "cell_type": "code",
      "metadata": {
        "id": "55yihY_RX1-z",
        "colab_type": "code",
        "colab": {}
      },
      "source": [
        ""
      ],
      "execution_count": 0,
      "outputs": []
    }
  ]
}