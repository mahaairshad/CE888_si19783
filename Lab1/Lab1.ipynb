{
  "nbformat": 4,
  "nbformat_minor": 0,
  "metadata": {
    "colab": {
      "name": "Copy of Lab1 Questions.ipynb",
      "provenance": [],
      "collapsed_sections": [],
      "authorship_tag": "ABX9TyMOl5N3MqxA7cL66vd5FZoS",
      "include_colab_link": true
    },
    "kernelspec": {
      "name": "python3",
      "display_name": "Python 3"
    }
  },
  "cells": [
    {
      "cell_type": "markdown",
      "metadata": {
        "id": "view-in-github",
        "colab_type": "text"
      },
      "source": [
        "<a href=\"https://colab.research.google.com/github/mahaairshad/CE888_si19783/blob/master/Lab1/Lab1.ipynb\" target=\"_parent\"><img src=\"https://colab.research.google.com/assets/colab-badge.svg\" alt=\"Open In Colab\"/></a>"
      ]
    },
    {
      "cell_type": "markdown",
      "metadata": {
        "id": "IeETTSFfM57O",
        "colab_type": "text"
      },
      "source": [
        "###Lab TaskQuestions"
      ]
    },
    {
      "cell_type": "markdown",
      "metadata": {
        "id": "fPevpEaTNOK9",
        "colab_type": "text"
      },
      "source": [
        "####1. Create a (4 x 2) integer array and print it's attributes"
      ]
    },
    {
      "cell_type": "code",
      "metadata": {
        "id": "cPu2R-OiM_YO",
        "colab_type": "code",
        "outputId": "a15b70b4-fd1e-484a-db98-15237266fff9",
        "colab": {
          "base_uri": "https://localhost:8080/",
          "height": 51
        }
      },
      "source": [
        "import numpy as np\n",
        "a = np.array([[ 6, 9, 2, 3],\n",
        "              [3,5,4,10]])\n",
        "print(a)"
      ],
      "execution_count": 1,
      "outputs": [
        {
          "output_type": "stream",
          "text": [
            "[[ 6  9  2  3]\n",
            " [ 3  5  4 10]]\n"
          ],
          "name": "stdout"
        }
      ]
    },
    {
      "cell_type": "markdown",
      "metadata": {
        "id": "_y_dpHz2Nk-u",
        "colab_type": "text"
      },
      "source": [
        "####2. Create an array of dimension (1,10) and sort it in ascending and descending order"
      ]
    },
    {
      "cell_type": "code",
      "metadata": {
        "id": "ylTQ6f5DNpuN",
        "colab_type": "code",
        "outputId": "e621c5c2-b853-4c2b-cba9-ecb5868e7f00",
        "colab": {
          "base_uri": "https://localhost:8080/",
          "height": 34
        }
      },
      "source": [
        "b=np.random.randint(1,10, 10)\n",
        "print(b)"
      ],
      "execution_count": 2,
      "outputs": [
        {
          "output_type": "stream",
          "text": [
            "[3 7 3 2 2 3 6 9 9 9]\n"
          ],
          "name": "stdout"
        }
      ]
    },
    {
      "cell_type": "code",
      "metadata": {
        "id": "usSeXPFBObMO",
        "colab_type": "code",
        "outputId": "aa4ad413-62d6-455f-d573-1d02712944e5",
        "colab": {
          "base_uri": "https://localhost:8080/",
          "height": 34
        }
      },
      "source": [
        "#ascending\n",
        "print(np.sort(b))"
      ],
      "execution_count": 3,
      "outputs": [
        {
          "output_type": "stream",
          "text": [
            "[2 2 3 3 3 6 7 9 9 9]\n"
          ],
          "name": "stdout"
        }
      ]
    },
    {
      "cell_type": "code",
      "metadata": {
        "id": "-sNpdnEtOlUB",
        "colab_type": "code",
        "outputId": "75c95b3a-7c06-4921-8b6f-6032b4074b20",
        "colab": {
          "base_uri": "https://localhost:8080/",
          "height": 34
        }
      },
      "source": [
        "#descending\n",
        "print(-np.sort(-b))"
      ],
      "execution_count": 4,
      "outputs": [
        {
          "output_type": "stream",
          "text": [
            "[9 9 9 7 6 3 3 3 2 2]\n"
          ],
          "name": "stdout"
        }
      ]
    },
    {
      "cell_type": "markdown",
      "metadata": {
        "id": "Uu-QSZVEO5Oi",
        "colab_type": "text"
      },
      "source": [
        "####3. Convert an 1D array [1 2 3 4 5 6 7 8 9] to 2D array [[1 2 3], [4 5 6], [7 8 9]]"
      ]
    },
    {
      "cell_type": "code",
      "metadata": {
        "id": "WY2QPlSHO7zU",
        "colab_type": "code",
        "outputId": "eae35b46-43d2-46d7-ca81-1c27292105e1",
        "colab": {
          "base_uri": "https://localhost:8080/",
          "height": 34
        }
      },
      "source": [
        "c=np.array([1, 2, 3, 4, 5, 6, 7, 8, 9])\n",
        "print(c)"
      ],
      "execution_count": 5,
      "outputs": [
        {
          "output_type": "stream",
          "text": [
            "[1 2 3 4 5 6 7 8 9]\n"
          ],
          "name": "stdout"
        }
      ]
    },
    {
      "cell_type": "code",
      "metadata": {
        "id": "IqVe_wt_PeKX",
        "colab_type": "code",
        "outputId": "813b79ef-1dd7-4311-9585-46575d74cb64",
        "colab": {
          "base_uri": "https://localhost:8080/",
          "height": 119
        }
      },
      "source": [
        "d=c[0:3]\n",
        "print(d)\n",
        "e=c[3:6]\n",
        "print(e)\n",
        "f=c[6:9]\n",
        "print(f)\n",
        "k=np.array([d,e,f])\n",
        "print (k)"
      ],
      "execution_count": 6,
      "outputs": [
        {
          "output_type": "stream",
          "text": [
            "[1 2 3]\n",
            "[4 5 6]\n",
            "[7 8 9]\n",
            "[[1 2 3]\n",
            " [4 5 6]\n",
            " [7 8 9]]\n"
          ],
          "name": "stdout"
        }
      ]
    },
    {
      "cell_type": "markdown",
      "metadata": {
        "id": "r6rlUHPnVRDW",
        "colab_type": "text"
      },
      "source": [
        "####4. Stack two arrays of any size horizontally and vertically"
      ]
    },
    {
      "cell_type": "code",
      "metadata": {
        "id": "P_pGMqcyVeAc",
        "colab_type": "code",
        "outputId": "3e10d81c-b496-4268-99e0-64958f037197",
        "colab": {
          "base_uri": "https://localhost:8080/",
          "height": 102
        }
      },
      "source": [
        "#vertical\n",
        "print(np.stack((f,d), axis=-1))\n",
        "#horizontal\n",
        "print(np.stack((f,d)))"
      ],
      "execution_count": 7,
      "outputs": [
        {
          "output_type": "stream",
          "text": [
            "[[7 1]\n",
            " [8 2]\n",
            " [9 3]]\n",
            "[[7 8 9]\n",
            " [1 2 3]]\n"
          ],
          "name": "stdout"
        }
      ]
    },
    {
      "cell_type": "markdown",
      "metadata": {
        "id": "zlZjWht7WXVR",
        "colab_type": "text"
      },
      "source": [
        "####5. Create two array of same size and find commom elements"
      ]
    },
    {
      "cell_type": "code",
      "metadata": {
        "id": "NyopVcGCWsOh",
        "colab_type": "code",
        "outputId": "80f6307f-6786-4830-99fc-0091ee9102c2",
        "colab": {
          "base_uri": "https://localhost:8080/",
          "height": 34
        }
      },
      "source": [
        "x=np.array([30, 22, 10, 13, 4])\n",
        "y=np.array([22, 2, 55, 10, 44])\n",
        "print(np.intersect1d(x, y))"
      ],
      "execution_count": 8,
      "outputs": [
        {
          "output_type": "stream",
          "text": [
            "[10 22]\n"
          ],
          "name": "stdout"
        }
      ]
    },
    {
      "cell_type": "markdown",
      "metadata": {
        "id": "5So3wCkFXhrf",
        "colab_type": "text"
      },
      "source": [
        "####6. Create a 2D array of 5 by 5 and find the min and max values from each row and each column"
      ]
    },
    {
      "cell_type": "code",
      "metadata": {
        "id": "yeRIsxlJXnsk",
        "colab_type": "code",
        "outputId": "dee68bbe-d476-4fa6-e39b-32b149ca184f",
        "colab": {
          "base_uri": "https://localhost:8080/",
          "height": 102
        }
      },
      "source": [
        "g=np.random.randint(1,20,size=(5,5))\n",
        "print(g)"
      ],
      "execution_count": 9,
      "outputs": [
        {
          "output_type": "stream",
          "text": [
            "[[ 9  2  9  2 19]\n",
            " [19 18  8  6 15]\n",
            " [14  2 16  2 10]\n",
            " [15 19  4  4  6]\n",
            " [16 16 19  7 15]]\n"
          ],
          "name": "stdout"
        }
      ]
    },
    {
      "cell_type": "code",
      "metadata": {
        "id": "goO61XZP5npS",
        "colab_type": "code",
        "outputId": "d1d9cba8-934d-491e-96e6-5e735a9fcd30",
        "colab": {
          "base_uri": "https://localhost:8080/",
          "height": 34
        }
      },
      "source": [
        "#Minimum across columns\n",
        "np.min(g,axis=0)"
      ],
      "execution_count": 10,
      "outputs": [
        {
          "output_type": "execute_result",
          "data": {
            "text/plain": [
              "array([9, 2, 4, 2, 6])"
            ]
          },
          "metadata": {
            "tags": []
          },
          "execution_count": 10
        }
      ]
    },
    {
      "cell_type": "code",
      "metadata": {
        "id": "KchnI-Mp55v9",
        "colab_type": "code",
        "outputId": "7304284b-a5af-4259-bb7c-50aedc69dec6",
        "colab": {
          "base_uri": "https://localhost:8080/",
          "height": 34
        }
      },
      "source": [
        "#Minimum across rows\n",
        "np.min(g,axis=1)"
      ],
      "execution_count": 11,
      "outputs": [
        {
          "output_type": "execute_result",
          "data": {
            "text/plain": [
              "array([2, 6, 2, 4, 7])"
            ]
          },
          "metadata": {
            "tags": []
          },
          "execution_count": 11
        }
      ]
    },
    {
      "cell_type": "code",
      "metadata": {
        "id": "FTWuAsyD6DTN",
        "colab_type": "code",
        "outputId": "8ffdf938-6520-4310-f118-83447c0054a7",
        "colab": {
          "base_uri": "https://localhost:8080/",
          "height": 34
        }
      },
      "source": [
        "#Maximum across columns\n",
        "np.max(g,axis=0)"
      ],
      "execution_count": 12,
      "outputs": [
        {
          "output_type": "execute_result",
          "data": {
            "text/plain": [
              "array([19, 19, 19,  7, 19])"
            ]
          },
          "metadata": {
            "tags": []
          },
          "execution_count": 12
        }
      ]
    },
    {
      "cell_type": "code",
      "metadata": {
        "id": "OESUBytG6O7_",
        "colab_type": "code",
        "outputId": "45fd369d-292d-4ea0-fa5f-b6a258a1d1c0",
        "colab": {
          "base_uri": "https://localhost:8080/",
          "height": 34
        }
      },
      "source": [
        "#Maximum across rows\n",
        "np.max(g,axis=1)"
      ],
      "execution_count": 13,
      "outputs": [
        {
          "output_type": "execute_result",
          "data": {
            "text/plain": [
              "array([19, 19, 16, 19, 19])"
            ]
          },
          "metadata": {
            "tags": []
          },
          "execution_count": 13
        }
      ]
    },
    {
      "cell_type": "markdown",
      "metadata": {
        "id": "msG9nCS4XrhT",
        "colab_type": "text"
      },
      "source": [
        "####7. Create an array of size 100 and compute the mean, median, standard deviation."
      ]
    },
    {
      "cell_type": "code",
      "metadata": {
        "id": "MGJ-4K4SXvVs",
        "colab_type": "code",
        "colab": {
          "base_uri": "https://localhost:8080/",
          "height": 102
        },
        "outputId": "d7af63ea-280c-4992-ecf8-14b4f8df524d"
      },
      "source": [
        "r=np.random.randint(1,30,size=(1,100))\n",
        "print(r)"
      ],
      "execution_count": 14,
      "outputs": [
        {
          "output_type": "stream",
          "text": [
            "[[29  7 26 25 16 29  5 26 17 11 23 16 29  9 25 28  3 23 15 27  7 22 17 23\n",
            "  16  4 28 28 29  7 21 27  2 11  3 21 24 28  9  7 14 17 10  9 26 11 14 21\n",
            "  18 14 22 29 26  3 17 17 15 14  9 27 19  6 10 13 24  6 21  4  8  8  8 25\n",
            "  16 12  4 26 27 19  7  6 27  4 25 20  8 26 21  5 28  4 13 16 23 19  9 13\n",
            "  21  4  1  8]]\n"
          ],
          "name": "stdout"
        }
      ]
    },
    {
      "cell_type": "code",
      "metadata": {
        "id": "f9U5kisi7u4c",
        "colab_type": "code",
        "colab": {
          "base_uri": "https://localhost:8080/",
          "height": 34
        },
        "outputId": "ed00d424-ccff-46d8-b3b1-dce1570d71ce"
      },
      "source": [
        "np.mean(r)"
      ],
      "execution_count": 15,
      "outputs": [
        {
          "output_type": "execute_result",
          "data": {
            "text/plain": [
              "16.2"
            ]
          },
          "metadata": {
            "tags": []
          },
          "execution_count": 15
        }
      ]
    },
    {
      "cell_type": "code",
      "metadata": {
        "id": "BHIPzHbZ80QP",
        "colab_type": "code",
        "colab": {
          "base_uri": "https://localhost:8080/",
          "height": 34
        },
        "outputId": "c633dcf7-27ab-40e6-833b-cbd3dab3adb0"
      },
      "source": [
        "np.median(r)"
      ],
      "execution_count": 16,
      "outputs": [
        {
          "output_type": "execute_result",
          "data": {
            "text/plain": [
              "16.0"
            ]
          },
          "metadata": {
            "tags": []
          },
          "execution_count": 16
        }
      ]
    },
    {
      "cell_type": "code",
      "metadata": {
        "id": "14PB8xyU85yw",
        "colab_type": "code",
        "colab": {
          "base_uri": "https://localhost:8080/",
          "height": 34
        },
        "outputId": "e8294feb-d6fd-4b53-8e9b-5553411bbd8a"
      },
      "source": [
        "np.std(r)"
      ],
      "execution_count": 17,
      "outputs": [
        {
          "output_type": "execute_result",
          "data": {
            "text/plain": [
              "8.48528137423857"
            ]
          },
          "metadata": {
            "tags": []
          },
          "execution_count": 17
        }
      ]
    },
    {
      "cell_type": "markdown",
      "metadata": {
        "id": "hAS485X2XvuE",
        "colab_type": "text"
      },
      "source": [
        "####8. Normalize a 5x5 random matrix"
      ]
    },
    {
      "cell_type": "code",
      "metadata": {
        "id": "ENL6bbUyXyg7",
        "colab_type": "code",
        "colab": {
          "base_uri": "https://localhost:8080/",
          "height": 102
        },
        "outputId": "eaa5d081-4e0d-433b-981b-043724bc9704"
      },
      "source": [
        "n=np.random.randint(5,11,size=(5,5))\n",
        "print(n)"
      ],
      "execution_count": 18,
      "outputs": [
        {
          "output_type": "stream",
          "text": [
            "[[ 5  8  9  5  8]\n",
            " [ 8  8  9  8  5]\n",
            " [10  8  9  9  6]\n",
            " [ 6  6  8  7  6]\n",
            " [ 6  9  5 10  8]]\n"
          ],
          "name": "stdout"
        }
      ]
    },
    {
      "cell_type": "code",
      "metadata": {
        "id": "udBqmpHZ_dwJ",
        "colab_type": "code",
        "colab": {
          "base_uri": "https://localhost:8080/",
          "height": 102
        },
        "outputId": "366eed71-f64c-4bf9-a8b5-ae1e294ac8f8"
      },
      "source": [
        "n=n-np.mean(n)\n",
        "n=n/(np.std(n))\n",
        "print(n)"
      ],
      "execution_count": 19,
      "outputs": [
        {
          "output_type": "stream",
          "text": [
            "[[-1.54740618  0.3551424   0.98932526 -1.54740618  0.3551424 ]\n",
            " [ 0.3551424   0.3551424   0.98932526  0.3551424  -1.54740618]\n",
            " [ 1.62350813  0.3551424   0.98932526  0.98932526 -0.91322332]\n",
            " [-0.91322332 -0.91322332  0.3551424  -0.27904046 -0.91322332]\n",
            " [-0.91322332  0.98932526 -1.54740618  1.62350813  0.3551424 ]]\n"
          ],
          "name": "stdout"
        }
      ]
    },
    {
      "cell_type": "markdown",
      "metadata": {
        "id": "_N80lM_6XzCU",
        "colab_type": "text"
      },
      "source": [
        "####9. Consider an array of dimension (4,4,3), how to mulitply it by an array with dimensions (4,4)?"
      ]
    },
    {
      "cell_type": "code",
      "metadata": {
        "id": "55yihY_RX1-z",
        "colab_type": "code",
        "colab": {
          "base_uri": "https://localhost:8080/",
          "height": 340
        },
        "outputId": "ecf62c1c-9def-46c5-f54b-42302a2e10a5"
      },
      "source": [
        "a=np.random.randint(1,20,size=(4,4,3))\n",
        "print(a)"
      ],
      "execution_count": 24,
      "outputs": [
        {
          "output_type": "stream",
          "text": [
            "[[[18  1 16]\n",
            "  [ 3 16  9]\n",
            "  [ 3  9  6]\n",
            "  [ 2  4  2]]\n",
            "\n",
            " [[ 3 16  9]\n",
            "  [ 7  1 19]\n",
            "  [ 5  3  6]\n",
            "  [15 18 13]]\n",
            "\n",
            " [[19  7 17]\n",
            "  [10 19 16]\n",
            "  [16 14 13]\n",
            "  [ 2 17  7]]\n",
            "\n",
            " [[ 1 12  8]\n",
            "  [17  2 11]\n",
            "  [15  6 18]\n",
            "  [19  2 13]]]\n"
          ],
          "name": "stdout"
        }
      ]
    },
    {
      "cell_type": "code",
      "metadata": {
        "id": "Pv1DVWPGoEWk",
        "colab_type": "code",
        "colab": {
          "base_uri": "https://localhost:8080/",
          "height": 68
        },
        "outputId": "ccb83471-870f-477e-b889-307b89bc5158"
      },
      "source": [
        "b=np.random.randint(1,20,size=(3,4))\n",
        "print(b)"
      ],
      "execution_count": 30,
      "outputs": [
        {
          "output_type": "stream",
          "text": [
            "[[ 8 13  9 10]\n",
            " [ 6  1 16  2]\n",
            " [12  2  3 12]]\n"
          ],
          "name": "stdout"
        }
      ]
    },
    {
      "cell_type": "code",
      "metadata": {
        "id": "zLI5PgRIoLQI",
        "colab_type": "code",
        "colab": {
          "base_uri": "https://localhost:8080/",
          "height": 153
        },
        "outputId": "ba8e38b6-5e3d-4dd3-89ed-7b3b678ac355"
      },
      "source": [
        "c=b.reshape((8,2))\n",
        "print(c)"
      ],
      "execution_count": 28,
      "outputs": [
        {
          "output_type": "stream",
          "text": [
            "[[16  9]\n",
            " [16 12]\n",
            " [14  3]\n",
            " [18 13]\n",
            " [15 13]\n",
            " [13  3]\n",
            " [17 16]\n",
            " [18 19]]\n"
          ],
          "name": "stdout"
        }
      ]
    },
    {
      "cell_type": "code",
      "metadata": {
        "id": "ut30WtP9ovHQ",
        "colab_type": "code",
        "colab": {
          "base_uri": "https://localhost:8080/",
          "height": 340
        },
        "outputId": "10086d2d-8398-4b8e-85ff-af9fda2bc5e2"
      },
      "source": [
        "np.matmul(a,b)"
      ],
      "execution_count": 31,
      "outputs": [
        {
          "output_type": "execute_result",
          "data": {
            "text/plain": [
              "array([[[342, 267, 226, 374],\n",
              "        [228,  73, 310, 170],\n",
              "        [150,  60, 189, 120],\n",
              "        [ 64,  34,  88,  52]],\n",
              "\n",
              "       [[228,  73, 310, 170],\n",
              "        [290, 130, 136, 300],\n",
              "        [130,  80, 111, 128],\n",
              "        [384, 239, 462, 342]],\n",
              "\n",
              "       [[398, 288, 334, 408],\n",
              "        [386, 181, 442, 330],\n",
              "        [368, 248, 407, 344],\n",
              "        [202,  57, 311, 138]],\n",
              "\n",
              "       [[176,  41, 225, 130],\n",
              "        [280, 245, 218, 306],\n",
              "        [372, 237, 285, 378],\n",
              "        [320, 275, 242, 350]]])"
            ]
          },
          "metadata": {
            "tags": []
          },
          "execution_count": 31
        }
      ]
    }
  ]
}